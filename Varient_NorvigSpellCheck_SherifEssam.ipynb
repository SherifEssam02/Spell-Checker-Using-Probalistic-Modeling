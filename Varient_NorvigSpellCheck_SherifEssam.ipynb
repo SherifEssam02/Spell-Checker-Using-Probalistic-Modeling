{
  "cells": [
    {
      "cell_type": "code",
      "execution_count": 1,
      "metadata": {
        "colab": {
          "base_uri": "https://localhost:8080/"
        },
        "id": "HVS53duW10bE",
        "outputId": "f1576bce-a8c5-4607-f11a-7f6643529d06"
      },
      "outputs": [
        {
          "name": "stderr",
          "output_type": "stream",
          "text": [
            "[nltk_data] Downloading package punkt to C:\\Users\\Sherif\n",
            "[nltk_data]     Essam\\AppData\\Roaming\\nltk_data...\n",
            "[nltk_data]   Unzipping tokenizers\\punkt.zip.\n",
            "[nltk_data] Downloading package averaged_perceptron_tagger to\n",
            "[nltk_data]     C:\\Users\\Sherif Essam\\AppData\\Roaming\\nltk_data...\n",
            "[nltk_data]   Unzipping taggers\\averaged_perceptron_tagger.zip.\n",
            "[nltk_data] Downloading package universal_tagset to C:\\Users\\Sherif\n",
            "[nltk_data]     Essam\\AppData\\Roaming\\nltk_data...\n",
            "[nltk_data]   Unzipping taggers\\universal_tagset.zip.\n"
          ]
        },
        {
          "data": {
            "text/plain": [
              "True"
            ]
          },
          "execution_count": 1,
          "metadata": {},
          "output_type": "execute_result"
        }
      ],
      "source": [
        "import nltk\n",
        "from collections import Counter\n",
        "import re\n",
        "from numpy import array\n",
        "nltk.download('punkt')\n",
        "nltk.download('averaged_perceptron_tagger')\n",
        "nltk.download('universal_tagset')"
      ]
    },
    {
      "cell_type": "code",
      "execution_count": 2,
      "metadata": {
        "id": "2Wic5G9x2DTT"
      },
      "outputs": [],
      "source": [
        "def words(text):\n",
        "  return re.findall(r'\\w+',text.lower())"
      ]
    },
    {
      "cell_type": "markdown",
      "metadata": {
        "id": "eHoHf6jmAB6g"
      },
      "source": [
        "code for generating the bigrams"
      ]
    },
    {
      "cell_type": "code",
      "execution_count": 3,
      "metadata": {
        "id": "eLDJ0Ic32KsK"
      },
      "outputs": [],
      "source": [
        "def generate_N_grams(text):\n",
        "  l= [ (text[i],text[i+1]) for i in range(len(text)-1)]\n",
        "  return l"
      ]
    },
    {
      "cell_type": "markdown",
      "metadata": {
        "id": "8cBTfxFZAHD8"
      },
      "source": [
        "here i initialize dictinaries for bigrams and frequncies and unigrams and their frequencies\n"
      ]
    },
    {
      "cell_type": "code",
      "execution_count": 4,
      "metadata": {
        "id": "ZHjPnrac2PP8"
      },
      "outputs": [
        {
          "ename": "FileNotFoundError",
          "evalue": "[Errno 2] No such file or directory: 'big.txt'",
          "output_type": "error",
          "traceback": [
            "\u001b[1;31m---------------------------------------------------------------------------\u001b[0m",
            "\u001b[1;31mFileNotFoundError\u001b[0m                         Traceback (most recent call last)",
            "\u001b[1;32mC:\\Users\\SHERIF~1\\AppData\\Local\\Temp/ipykernel_6980/4098457280.py\u001b[0m in \u001b[0;36m<module>\u001b[1;34m\u001b[0m\n\u001b[1;32m----> 1\u001b[1;33m \u001b[0mbigrams\u001b[0m\u001b[1;33m=\u001b[0m\u001b[0mCounter\u001b[0m\u001b[1;33m(\u001b[0m\u001b[0mgenerate_N_grams\u001b[0m\u001b[1;33m(\u001b[0m\u001b[0mwords\u001b[0m\u001b[1;33m(\u001b[0m\u001b[0mopen\u001b[0m\u001b[1;33m(\u001b[0m\u001b[1;34m'big.txt'\u001b[0m\u001b[1;33m)\u001b[0m\u001b[1;33m.\u001b[0m\u001b[0mread\u001b[0m\u001b[1;33m(\u001b[0m\u001b[1;33m)\u001b[0m\u001b[1;33m)\u001b[0m\u001b[1;33m)\u001b[0m\u001b[1;33m)\u001b[0m\u001b[1;33m\u001b[0m\u001b[1;33m\u001b[0m\u001b[0m\n\u001b[0m\u001b[0;32m      2\u001b[0m \u001b[0mMy_dict\u001b[0m\u001b[1;33m=\u001b[0m\u001b[0mCounter\u001b[0m\u001b[1;33m(\u001b[0m\u001b[0mwords\u001b[0m\u001b[1;33m(\u001b[0m\u001b[0mopen\u001b[0m\u001b[1;33m(\u001b[0m\u001b[1;34m'big.txt'\u001b[0m\u001b[1;33m)\u001b[0m\u001b[1;33m.\u001b[0m\u001b[0mread\u001b[0m\u001b[1;33m(\u001b[0m\u001b[1;33m)\u001b[0m\u001b[1;33m)\u001b[0m\u001b[1;33m)\u001b[0m\u001b[1;33m\u001b[0m\u001b[1;33m\u001b[0m\u001b[0m\n",
            "\u001b[1;31mFileNotFoundError\u001b[0m: [Errno 2] No such file or directory: 'big.txt'"
          ]
        }
      ],
      "source": [
        "bigrams=Counter(generate_N_grams(words(open('big.txt').read())))\n",
        "My_dict=Counter(words(open('big.txt').read()))"
      ]
    },
    {
      "cell_type": "markdown",
      "metadata": {
        "id": "aX60E59R_WdS"
      },
      "source": [
        "The traditional norvig spell check algorithm for any comparison with my improved changes"
      ]
    },
    {
      "cell_type": "code",
      "execution_count": 132,
      "metadata": {
        "id": "EF9tmjmC26-0"
      },
      "outputs": [],
      "source": [
        "def edits(word):\n",
        "  letters='qwertyuiopasdfghjklzxcvbnm'\n",
        "  splits=[(word[:i],word[i:]) for i in range(len(word)+1)]\n",
        "  d=[l+r[1:] for l,r in splits if len(r)!=0]\n",
        "  t=[l+r[1]+r[0]+r[2:] for l,r in splits if len(r)>1]\n",
        "  r=[l+i+r[1:] for l,r in splits if len(r)!=0 for i in letters]\n",
        "  i=[l+i+r for l,r in splits  for i in letters]\n",
        "  return set(d+t+r+i)\n",
        "def edits2(word):\n",
        "  return tuple(e2 for e1 in edits(word) for e2 in edits(e1))\n",
        "def know(candidate):\n",
        "  return list(c for c in candidate if c in My_dict)\n",
        "# as for the candidates function i now give same priority and probability for both edits one and two\n",
        "def bigram_candidates(word):\n",
        "  return ( know([word]) or know(edits(word)) + know(edits2(word)) or [word])"
      ]
    },
    {
      "cell_type": "code",
      "execution_count": 133,
      "metadata": {
        "id": "-i51QgYM_Qop"
      },
      "outputs": [],
      "source": [
        "def probability(word,n=sum(My_dict.values())):\n",
        " return My_dict[word]/n\n",
        "def old_candidates(word):\n",
        "  return (know([word]) or know(edits(word)) or know(edits2(word)) or [word])\n",
        "def old_correction(word):\n",
        "  return max(set(old_candidates(word)),key=probability)"
      ]
    },
    {
      "cell_type": "code",
      "execution_count": 177,
      "metadata": {
        "colab": {
          "base_uri": "https://localhost:8080/"
        },
        "id": "QlhcYH1W7DoO",
        "outputId": "082455f1-a2bd-4715-f390-719176f42f4d"
      },
      "outputs": [
        {
          "data": {
            "text/plain": [
              "0"
            ]
          },
          "execution_count": 177,
          "metadata": {},
          "output_type": "execute_result"
        }
      ],
      "source": [
        "My_dict['escabeing']"
      ]
    },
    {
      "cell_type": "code",
      "execution_count": 236,
      "metadata": {
        "colab": {
          "base_uri": "https://localhost:8080/"
        },
        "id": "QTVYDwRe-THT",
        "outputId": "828b86b0-d176-4744-bdd6-06860fceb419"
      },
      "outputs": [
        {
          "data": {
            "text/plain": [
              "0"
            ]
          },
          "execution_count": 236,
          "metadata": {},
          "output_type": "execute_result"
        }
      ],
      "source": [
        "bigrams['the','it']"
      ]
    },
    {
      "cell_type": "markdown",
      "metadata": {
        "id": "zvZCBBnDAVPe"
      },
      "source": [
        "My Error model now dependes on the the context taking the conditional probability between the assumed misspelled word and the the word before it + probability between the assumed misspelled word and the the word after it taking the max value"
      ]
    },
    {
      "cell_type": "code",
      "execution_count": 249,
      "metadata": {
        "id": "37hkaY5W2Ycc"
      },
      "outputs": [],
      "source": [
        "def leftproba(word_before,Target):\n",
        "  if My_dict[word_before]!=0:\n",
        "    return 200*bigrams[word_before,Target]/My_dict[word_before]\n",
        "  else:\n",
        "   return 0\n",
        "def rightproba(Target,word_after):\n",
        "  if My_dict[word_after]!=0:\n",
        "    return 50*bigrams[Target,word_after]/My_dict[word_after]\n",
        "  else:\n",
        "   return 0\n",
        "def totalproba(left,word,right):\n",
        "  return leftproba(left,word)+rightproba(word,right)"
      ]
    },
    {
      "cell_type": "markdown",
      "metadata": {
        "id": "7meNkvJyA_p9"
      },
      "source": [
        "this is the block of code used for highlight text in google colab\n"
      ]
    },
    {
      "cell_type": "code",
      "execution_count": 135,
      "metadata": {
        "colab": {
          "base_uri": "https://localhost:8080/",
          "height": 34
        },
        "id": "G3RhRthE3ChA",
        "outputId": "603bd4b3-772b-497a-8e5e-86d8f9c5853c"
      },
      "outputs": [
        {
          "data": {
            "text/html": [
              "<text style=color:white>foo <text style=color:red>abc</text> bar</text>"
            ],
            "text/plain": [
              "<IPython.core.display.HTML object>"
            ]
          },
          "execution_count": 135,
          "metadata": {},
          "output_type": "execute_result"
        }
      ],
      "source": [
        "from IPython.display import HTML as html_print\n",
        "def cstr(s, color='white'):\n",
        "    return \"<text style=color:{}>{}</text>\".format(color, s)\n",
        "left, word, right = 'foo' , 'abc' , 'bar'\n",
        "word=cstr(word, color='red')\n",
        "html_print(cstr(' '.join([left, word, right]), color='white') )"
      ]
    },
    {
      "cell_type": "markdown",
      "metadata": {
        "id": "oYTV4dCHBKIr"
      },
      "source": [
        "This function is for spell checking each word in the given sentence using bigrams special case for fist and last word of sentence"
      ]
    },
    {
      "cell_type": "code",
      "execution_count": 136,
      "metadata": {
        "id": "MrXJhTrS3TZE"
      },
      "outputs": [],
      "source": [
        "def correction_bigrams(sentence):\n",
        "  words=sentence.split()\n",
        "  for i in range(len(words)):\n",
        "    l=list(set(bigram_candidates(words[i])))\n",
        "    max=0\n",
        "    f=0\n",
        "    if(len(l)==1):\n",
        "      words[i]=l[0]\n",
        "      continue\n",
        "    for j in range(len(l)):\n",
        "      if i==0:\n",
        "        temp=rightproba(l[j],words[i+1])#first word in sentence\n",
        "      elif i==len(words)-1:\n",
        "        temp=leftproba(words[i-1],l[j])#last word\n",
        "      else :\n",
        "        temp=totalproba(words[i-1],l[j],words[i+1])\n",
        "      if temp>max:\n",
        "        max=temp\n",
        "        f=1\n",
        "        words[i]=l[j]\n",
        "    if f==0:\n",
        "      words[i]=old_correction(words[i])\n",
        "  return words    "
      ]
    },
    {
      "cell_type": "code",
      "execution_count": 148,
      "metadata": {
        "id": "0aLq8EyD4e8D"
      },
      "outputs": [],
      "source": [
        "def  varient_norvig_spellcheck(sentence,func=correction_bigrams):\n",
        "  original_words=sentence.split()\n",
        "  assumed_corrected=func(sentence)\n",
        "  for i in range(len(original_words)):\n",
        "    if(original_words[i]!=assumed_corrected[i]):\n",
        "      original_words[i]=cstr(original_words[i], color='red')\n",
        "      assumed_corrected[i]=cstr(assumed_corrected[i], color='green')\n",
        "\n",
        "  original_words.append(cstr('>>>'))\n",
        "  total_display=original_words+assumed_corrected\n",
        "  return total_display"
      ]
    },
    {
      "cell_type": "markdown",
      "metadata": {
        "id": "UK4AaLUtBbIQ"
      },
      "source": [
        "next blocks of are naive evluation between old correction and bigrams correction"
      ]
    },
    {
      "cell_type": "code",
      "execution_count": 138,
      "metadata": {
        "colab": {
          "base_uri": "https://localhost:8080/",
          "height": 36
        },
        "id": "9Zcwvwyj4H1v",
        "outputId": "6faaf027-a6f4-416d-f0c2-6791ad8216ef"
      },
      "outputs": [
        {
          "data": {
            "application/vnd.google.colaboratory.intrinsic+json": {
              "type": "string"
            },
            "text/plain": [
              "'loved'"
            ]
          },
          "execution_count": 138,
          "metadata": {},
          "output_type": "execute_result"
        }
      ],
      "source": [
        "old_correction('loveed')"
      ]
    },
    {
      "cell_type": "code",
      "execution_count": 98,
      "metadata": {
        "colab": {
          "base_uri": "https://localhost:8080/",
          "height": 36
        },
        "id": "UkpAncTC4W8e",
        "outputId": "e759352b-7439-41a9-afcb-dbbd68321d4c"
      },
      "outputs": [
        {
          "data": {
            "application/vnd.google.colaboratory.intrinsic+json": {
              "type": "string"
            },
            "text/plain": [
              "'bland'"
            ]
          },
          "execution_count": 98,
          "metadata": {},
          "output_type": "execute_result"
        }
      ],
      "source": [
        "old_correction('blaand')"
      ]
    },
    {
      "cell_type": "code",
      "execution_count": 197,
      "metadata": {
        "colab": {
          "base_uri": "https://localhost:8080/",
          "height": 36
        },
        "id": "f8RM9G8sIsKY",
        "outputId": "4efa61df-a35d-4b21-f0da-11306687b368"
      },
      "outputs": [
        {
          "data": {
            "application/vnd.google.colaboratory.intrinsic+json": {
              "type": "string"
            },
            "text/plain": [
              "'due'"
            ]
          },
          "execution_count": 197,
          "metadata": {},
          "output_type": "execute_result"
        }
      ],
      "source": [
        "old_correction('dte')"
      ]
    },
    {
      "cell_type": "code",
      "execution_count": 349,
      "metadata": {
        "colab": {
          "base_uri": "https://localhost:8080/"
        },
        "id": "Qqq5NjK84Y6W",
        "outputId": "6b77f7a1-4fa4-4a4f-8204-be2eb20013f4"
      },
      "outputs": [
        {
          "data": {
            "text/plain": [
              "['the', 'city']"
            ]
          },
          "execution_count": 349,
          "metadata": {},
          "output_type": "execute_result"
        }
      ],
      "source": [
        "correction_bigrams('the cta')"
      ]
    },
    {
      "cell_type": "markdown",
      "metadata": {
        "id": "yy_mzIfPB6bX"
      },
      "source": [
        "here i introduce the color feature highlight mis spelled words red and corrected with green"
      ]
    },
    {
      "cell_type": "code",
      "execution_count": 150,
      "metadata": {
        "colab": {
          "base_uri": "https://localhost:8080/",
          "height": 34
        },
        "id": "Ighr1eCl4ohy",
        "outputId": "21847bf7-4e1c-45c2-dcce-27463b4a9e53"
      },
      "outputs": [
        {
          "data": {
            "text/html": [
              "<text style=color:white>very <text style=color:red>blaad</text> <text style=color:red>foor</text> <text style=color:red>heaar</text> <text style=color:white>>>></text> very <text style=color:green>glad</text> <text style=color:green>for</text> <text style=color:green>her</text></text>"
            ],
            "text/plain": [
              "<IPython.core.display.HTML object>"
            ]
          },
          "execution_count": 150,
          "metadata": {},
          "output_type": "execute_result"
        }
      ],
      "source": [
        "sentence='very blaad foor heaar'\n",
        "output=varient_norvig_spellcheck(sentence)\n",
        "html_print(cstr(' '.join(output)))"
      ]
    },
    {
      "cell_type": "code",
      "execution_count": 141,
      "metadata": {
        "colab": {
          "base_uri": "https://localhost:8080/",
          "height": 34
        },
        "id": "NCVeTHXC4uob",
        "outputId": "3675edcb-c019-4154-cca4-621ea14dfa98"
      },
      "outputs": [
        {
          "data": {
            "text/html": [
              "<text style=color:white><text style=color:red>tht</text> he <text style=color:red>waass</text> <text style=color:white>>>></text> <text style=color:green>that</text> he <text style=color:green>was</text></text>"
            ],
            "text/plain": [
              "<IPython.core.display.HTML object>"
            ]
          },
          "execution_count": 141,
          "metadata": {},
          "output_type": "execute_result"
        }
      ],
      "source": [
        "sentence='tht he waass'\n",
        "output=varient_norvig_spellcheck(sentence)\n",
        "html_print(cstr(' '.join(output)))"
      ]
    },
    {
      "cell_type": "code",
      "execution_count": 139,
      "metadata": {
        "colab": {
          "base_uri": "https://localhost:8080/",
          "height": 34
        },
        "id": "ykHrr8-LP1Mq",
        "outputId": "d002d7e7-a58a-45ef-f887-6a50a7355651"
      },
      "outputs": [
        {
          "data": {
            "text/html": [
              "<text style=color:white>he <text style=color:red>loveed</text> at <text style=color:white>>>></text> he <text style=color:green>looked</text> at</text>"
            ],
            "text/plain": [
              "<IPython.core.display.HTML object>"
            ]
          },
          "execution_count": 139,
          "metadata": {},
          "output_type": "execute_result"
        }
      ],
      "source": [
        "sentence='he loveed at'\n",
        "output=varient_norvig_spellcheck(sentence)\n",
        "html_print(cstr(' '.join(output)))"
      ]
    },
    {
      "cell_type": "markdown",
      "metadata": {
        "id": "NFUWHYpFBjuR"
      },
      "source": [
        "as concluded bigrams now play a role in deciding the best cadidate depending on context but there are more improvements to be made\n"
      ]
    },
    {
      "cell_type": "markdown",
      "metadata": {
        "id": "4OhUwuKLAbvy"
      },
      "source": [
        "# Now trying to improve performance using ***symspell*** algorithm for faster candidates retrieval"
      ]
    },
    {
      "cell_type": "code",
      "execution_count": 1,
      "metadata": {
        "id": "v4NInWkxjrSm"
      },
      "outputs": [],
      "source": [
        "max_edit_distance =2 #to mimic the candidate generation of the old norvig approach\n",
        "def get_deletes_list(w):\n",
        "  \"given a word, derive strings with up to max_edit_distance characters deleted\"\n",
        "  deletes = []\n",
        "  queue = [w]\n",
        "  for d in range(max_edit_distance):\n",
        "      temp_queue = []\n",
        "      for word in queue:\n",
        "          if len(word) > 1:\n",
        "              for c in range(len(word)):  # character index\n",
        "                  word_minus_c = word[:c] + word[c + 1:]\n",
        "                  if word_minus_c not in deletes:\n",
        "                      deletes.append(word_minus_c)\n",
        "                  if word_minus_c not in temp_queue:\n",
        "                      temp_queue.append(word_minus_c)\n",
        "      queue = temp_queue\n",
        "\n",
        "  return deletes"
      ]
    },
    {
      "cell_type": "markdown",
      "metadata": {
        "id": "MqFK6qkSB6GU"
      },
      "source": [
        "Now dictionary for the performance boost"
      ]
    },
    {
      "cell_type": "code",
      "execution_count": 2,
      "metadata": {
        "id": "HTQj1Tbr8nVn"
      },
      "outputs": [],
      "source": [
        "symspell_dict = {}"
      ]
    },
    {
      "cell_type": "code",
      "execution_count": 3,
      "metadata": {
        "id": "KbsfUhEJXhrR"
      },
      "outputs": [],
      "source": [
        "def create_symspell_dict_entry(w):\n",
        "  longest_word_length = 0\n",
        "  '''add word and its derived deletions to symspell_dict'''\n",
        "  # check if word is already in symspell_dict\n",
        "  # symspell_dict entries are in the form: (list of suggested corrections,frequency of word in corpus)\n",
        "  new_word = False\n",
        "  if w in symspell_dict:\n",
        "      # increment count of word in corpus\n",
        "      symspell_dict[w] = (symspell_dict[w][0], symspell_dict[w][1] + 1)\n",
        "  else:\n",
        "      symspell_dict[w] = ([], 1)\n",
        "      longest_word_length = max(longest_word_length, len(w))\n",
        "\n",
        "  if symspell_dict[w][1] == 1:\n",
        "      # first appearance of word in corpus\n",
        "      new_word = True\n",
        "      deletes = get_deletes_list(w)\n",
        "      for item in deletes:\n",
        "          if item in symspell_dict:\n",
        "              # add (correct) word to delete's suggested correction list\n",
        "              symspell_dict[item][0].append(w)\n",
        "          else:\n",
        "              # note frequency of word in corpus is not incremented\n",
        "              symspell_dict[item] = ([w], 0)\n",
        "\n",
        "  return new_word,longest_word_length"
      ]
    },
    {
      "cell_type": "code",
      "execution_count": 4,
      "metadata": {
        "id": "RlVpvrTnn7VD"
      },
      "outputs": [],
      "source": [
        "def create_dictionary(fname):\n",
        "        total_word_count = 0\n",
        "        unique_word_count = 0\n",
        "        dict_longest_word=0\n",
        "\n",
        "        with open(fname) as file:\n",
        "            for line in file:\n",
        "                # separate by words by non-alphabetical characters\n",
        "                words = re.findall('[a-z]+', line.lower())\n",
        "                for word in words:\n",
        "                    total_word_count += 1\n",
        "                    unique,longest_word_generated=create_symspell_dict_entry(word)\n",
        "                    if unique:\n",
        "                        unique_word_count += 1\n",
        "                    dict_longest_word=max(dict_longest_word,longest_word_generated)\n",
        "\n",
        "        print(\"total words processed: %i\" % total_word_count)\n",
        "        print(\"total unique words in corpus: %i\" % unique_word_count)\n",
        "        print(\"total items in dictionary (corpus words and deletions): %i\" % len(symspell_dict))\n",
        "        print(\"  edit distance for deletions: %i\" % max_edit_distance)\n",
        "        print(\"  length of longest word in corpus: %i\" % dict_longest_word)"
      ]
    },
    {
      "cell_type": "code",
      "execution_count": 7,
      "metadata": {
        "colab": {
          "base_uri": "https://localhost:8080/"
        },
        "id": "TWXjHbl9oHiB",
        "outputId": "86210006-0324-4c16-8068-4f3b798f8175"
      },
      "outputs": [
        {
          "name": "stdout",
          "output_type": "stream",
          "text": [
            "total words processed: 1105285\n",
            "total unique words in corpus: 29157\n",
            "total items in dictionary (corpus words and deletions): 848496\n",
            "  edit distance for deletions: 2\n",
            "  length of longest word in corpus: 18\n"
          ]
        }
      ],
      "source": [
        "create_dictionary(\"/content/big.txt\")"
      ]
    },
    {
      "cell_type": "markdown",
      "metadata": {
        "id": "-c2JQdG6GhSY"
      },
      "source": [
        "Sneek peek of what The SymSpell Dictionary stores"
      ]
    },
    {
      "cell_type": "code",
      "execution_count": 350,
      "metadata": {
        "colab": {
          "base_uri": "https://localhost:8080/"
        },
        "id": "fNUs8aqUZnvk",
        "outputId": "7576e915-e53c-48ed-a8d9-6a1684b07b51"
      },
      "outputs": [
        {
          "name": "stdout",
          "output_type": "stream",
          "text": [
            "the (['other', 'these', 'they', 'there', 'those', 'their', 'threw', 'then', 'them', 'three', 'thief', 'lithe', 'theft', 'wythe', 'thee', 'theme', 'ether', 'bathe', 'lathe', 'tache', 'thwee', 'thine', 'theah', 'ethel'], 80030)\n",
            "he (['the', 'when', 'she', 'have', 'her', 'they', 'home', 'head', 'then', 'shoe', 'help', 'hear', 'here', 'them', 'hope', 'hare', 'held', 'hole', 'huge', 'heel', 'hide', 'herd', 'heed', 'hate', 'haze', 'heap', 'shed', 'hyde', 'heh', 'hers', 'hemp', 'heat', 'howe', 'hero', 'hume', 'hoes', 'hire', 'heal', 'thee', 'hise', 'hale', 'heir', 'hue', 'hen', 'hive', 'cher', 'hey', 'dahe', 'hew', 'hem', 'herb', 'ache', 'chef', 'herr', 'hewn', 'heah', 'hell', 'whew', 'zheg', 'chew', 'shew', 'helm'], 12401)\n",
            "te (['the', 'date', 'take', 'they', 'late', 'time', 'then', 'tell', 'true', 'note', 'step', 'tore', 'them', 'tie', 'ten', 'tide', 'gate', 'test', 'type', 'toe', 'fate', 'rate', 'tea', 'tale', 'site', 'tree', 'text', 'tire', 'tear', 'item', 'bite', 'kate', 'hate', 'tied', 'ate', 'tend', 'term', 'tone', 'tune', 'vote', 'pate', 'tube', 'team', 'ties', 'tens', 'tier', 'mete', 'bute', 'tyne', 'ante', 'thee', 'tenn', 'rete', 'teno', 'toes', 'rite', 'tape', 'fete', 'tete', 'tres', 'mute', 'twue', 'stew', 'mate', 'tent', 'etes', 'etre', 'ted', 'tate', 'stem', 'acte', 'tver', 'alte', 'cite', 'tile', 'tyre', 'kite', 'tame', 'sate'], 1)\n",
            "th (['the', 'this', 'both', 'with', 'that', 'they', 'than', 'then', 'them', 'thin', 'path', 'oath', 'bath', 'thus', 'myth', 'thud', 'utah', 'roth', 'hath', 'thy', 'thou', 'thee', 'rath', 'thaw', 'takh', 'doth', 'ruth', 'beth'], 51)\n",
            "e (['the', 'are', 'be', 'get', 'set', 'red', 'she', 'her', 'sex', 'he', 'one', 'men', 'yet', 'led', 'me', 'see', 'new', 'eye', 'wet', 'few', 'we', 'eg', 'let', 'yes', 'end', 'sea', 'use', 'lie', 'tie', 'ear', 'die', 'eat', 'ten', 'key', 've', 'esq', 'nee', 'age', 'met', 'bye', 'pen', 'beg', 'vex', 'pea', 're', 'bed', 'est', 'de', 'ned', 'per', 'jet', 'nez', 'toe', 'ex', 'tea', 'leg', 'net', 'wee', 'owe', 'lee', 'web', 'den', 'ice', 'eh', 'gem', 'pet', 'bet', 'ate', 'egg', 'jem', 'en', 'due', 'fee', 'dew', 'etc', 'pew', 'pre', 'pie', 'bee', 'ere', 'heh', 'fed', 'ave', 'ein', 'sue', 'ver', 'eve', 'leo', 'rev', 'ed', 'vie', 'keg', 'le', 'elm', 'ye', 'ire', 'se', 'era', 'em', 'fe', 'eva', 'abe', 'ore', 'ode', 'foe', 'ely', 'des', 'dec', 'rep', 'dem', 'oe', 'aet', 'hue', 'rye', 'roe', 'ape', 'dye', 'neo', 'peg', 'hen', 'epi', 'pes', 'erb', 'ext', 'wen', 'med', 'une', 'err', 'hey', 'ze', 'je', 'peu', 'zen', 'pe', 'lea', 'et', 'ce', 'awe', 'len', 'jew', 'wie', 'cet', 'hew', 'que', 'les', 'feu', 'hem', 'ebb', 'ken', 'er', 'ne', 'ace', 'ted', 'vue', 'gee', 'fez', 'ame', 'ces', 'ses', 'eau', 'aye', 'der', 'ney', 'rec', 'sew', 'ev', 'eut', 'ke', 'es', 'yep', 'ego', 'def', 'ety', 'joe', 'ben', 'yer', 'woe', 'del', 'el', 'axe', 'yea', 'feb', 'doe', 'te', 'gen', 'ale', 'sez', 'dey', 'wed', 'esp', 'rue', 'meg', 'ole'], 136)\n",
            "h (['the', 'how', 'she', 'him', 'her', 'his', 'he', 'has', 'had', 'who', 'hot', 'hat', 'ha', 'why', 'hum', 'oh', 'ah', 'shy', 'hit', 'ash', 'th', 'eh', 'hay', 'hid', 'heh', 'htm', 'thy', 'hon', 'hue', 'hip', 'ham', 'hen', 'chi', 'hm', 'hey', 'ho', 'foh', 'ugh', 'hi', 'bah', 'hew', 'hem', 'ouh', 'hut', 'hop', 'hur', 'ch', 'wh', 'aah', 'hoy', 'ich', 'ooh', 'oho', 'rah', 'hug', 'pwh'], 79)\n",
            "t (['the', 'to', 'not', 'it', 'at', 'out', 'get', 'set', 'but', 'yet', 'lit', 'hot', 'put', 'wet', 'too', 'top', 'hat', 'two', 'let', 'its', 'bit', 'sit', 'tap', 'st', 'sat', 'tie', 'eat', 'ten', 'got', 'wit', 'fat', 'try', 'mat', 'met', 'cut', 'est', 'apt', 'fit', 'jet', 'hit', 'toe', 'ft', 'rat', 'tea', 'tut', 'tip', 'net', 'jot', 'pit', 'act', 'th', 'art', 'lot', 'tax', 'toy', 'pet', 'bet', 'ate', 'tug', 'cat', 'etc', 'tin', 'nut', 'oct', 'htm', 'txt', 'til', 'ftp', 'tm', 'pot', 'tar', 'tis', 'ton', 'kit', 'thy', 'tag', 'tom', 'mt', 'ut', 'utf', 'ltd', 'aet', 'gut', 'ext', 'tic', 'tub', 'zat', 'tr', 'dat', 'et', 'oft', 'att', 'mot', 'cet', 'wat', 'hut', 'vot', 'tra', 'tit', 'tat', 'sot', 'tu', 'cot', 'twy', 'pat', 'sta', 'ted', 'rut', 'toi', 'ta', 'ant', 'tow', 'ist', 'sty', 'ti', 'tss', 'tt', 'ont', 'eut', 'tz', 'vat', 'opt', 'bat', 'dot', 'ety', 'git', 'tim', 'te', 'aft', 'ty', 'rot'], 1318)\n",
            "project (['projected', 'projects'], 288)\n",
            "roject (['project', 'projects'], 0)\n",
            "poject (['project', 'projects'], 0)\n",
            "prject (['project', 'projects'], 0)\n",
            "proect (['project', 'protect', 'prospect', 'projects', 'protects'], 0)\n",
            "projct (['project', 'projects'], 0)\n",
            "projet (['project', 'projects'], 0)\n",
            "projec (['project', 'projects'], 0)\n",
            "oject (['project', 'object', 'objects'], 0)\n",
            "rject (['project', 'rejects', 'reject'], 0)\n",
            "roect (['project', 'protect'], 0)\n",
            "rojct (['project'], 0)\n",
            "rojet (['project'], 0)\n",
            "rojec (['project'], 0)\n",
            "pject (['project'], 0)\n",
            "poect (['project', 'protect'], 0)\n",
            "pojct (['project'], 0)\n",
            "pojet (['project'], 0)\n"
          ]
        }
      ],
      "source": [
        "c=0\n",
        "for key, value in symspell_dict.items():\n",
        "  if c<25:\n",
        "    print(key,value)\n",
        "    c+=1"
      ]
    },
    {
      "cell_type": "markdown",
      "metadata": {
        "id": "kdBZQaWWCJUS"
      },
      "source": [
        "A basic edit distance algorithm between two strings focuses on candidates by inseration , replacement and adjecent characters transposition\n",
        "Note symspell approach uses only deletion diffrences"
      ]
    },
    {
      "cell_type": "code",
      "execution_count": 8,
      "metadata": {
        "id": "zTugknikVKM8"
      },
      "outputs": [],
      "source": [
        "def my_edit_distance(s1,s2):\n",
        "  s1,s2=' '+s1,' '+s2\n",
        "  m=array([0]*len(s1)*len(s2)).reshape(len(s1),len(s2))\n",
        "  for i in range(len(s1)):\n",
        "    for j in range(len(s2)):\n",
        "      if j==0:\n",
        "          m[i][j]=i\n",
        "      elif i==0:\n",
        "          m[i][j]=j\n",
        "      else:\n",
        "        m[i][j]=min(m[i-1][j]+1,m[i][j-1]+1,m[i-1][j-1]+(s1[i]!=s2[j]))\n",
        "        \n",
        "      # Taking the touch of Damerau Levenshtein varient were (transposition) of two adjecent characters is of cost 1\n",
        "      if (i > 0 and j > 0 and s1[i] == s2[j - 1] and s1[i - 1] == s2[j] and s1[i] != s2[j]):\n",
        "                    m[i][j] = min( m[i][j], m[i-2][j-2]+1)\n",
        "\n",
        "  return m[-1][-1]"
      ]
    },
    {
      "cell_type": "code",
      "execution_count": 187,
      "metadata": {
        "id": "y5qmNOKtaaPT"
      },
      "outputs": [],
      "source": [
        "def symspell_candidates(string, silent=False,verbose=1):\n",
        "  #verbose=0 error model chooses the old way highest occurence of an edit 1 one\n",
        "  #verbose=1 error has edits 1 and 2 as candidates\n",
        "  #verbose=3 error has max edit candidates\n",
        "  longest_word_length=18\n",
        "  \"return list of suggested corrections for potentially incorrectly spelled word\"\n",
        "  if (len(string) - longest_word_length) > max_edit_distance:\n",
        "      if not silent:\n",
        "          print(\"no items in dictionary within maximum edit distance\")\n",
        "      return string\n",
        "\n",
        "  suggest_dict = {}\n",
        "  min_suggest_len = 6\n",
        "  if(verbose==1):\n",
        "    min_suggest_len = 2\n",
        "\n",
        "  queue = [string]\n",
        "  q_dictionary = {}  # items other than string that we've checked\n",
        "\n",
        "  while len(queue) > 0:\n",
        "      q_item = queue[0]  # pop\n",
        "      queue = queue[1:]\n",
        "\n",
        "      if (q_item in symspell_dict) and (q_item not in suggest_dict):\n",
        "          if symspell_dict[q_item][1] > 0:\n",
        "              assert len(string) >= len(q_item)\n",
        "              suggest_dict[q_item] = (symspell_dict[q_item][1],len(string) - len(q_item))\n",
        "              if (verbose == 0) and (len(string) == len(q_item)):\n",
        "                  break\n",
        "              elif (len(string) - len(q_item)) < min_suggest_len and verbose==0:\n",
        "                    min_suggest_len = len(string) - len(q_item)\n",
        "          for sc_item in symspell_dict[q_item][0]:\n",
        "              if sc_item not in suggest_dict:\n",
        "                  assert len(sc_item) > len(q_item)\n",
        "                  assert len(q_item) <= len(string)\n",
        "                  if len(q_item) == len(string):\n",
        "                      assert q_item == string\n",
        "                      item_dist = len(sc_item) - len(q_item)\n",
        "                  assert sc_item != string\n",
        "                  #computing the candidates of changes other than deletion\n",
        "                  item_dist = my_edit_distance(sc_item, string)\n",
        "                  if (verbose < 2) and (item_dist > min_suggest_len):\n",
        "                      pass\n",
        "                  elif item_dist <= max_edit_distance :\n",
        "                      assert sc_item in symspell_dict  # should already be in symspell_dict if in suggestion list\n",
        "                      suggest_dict[sc_item] = (symspell_dict[sc_item][1], item_dist)\n",
        "                      if item_dist < min_suggest_len and verbose==0:\n",
        "                            min_suggest_len = item_dist\n",
        "                  if verbose < 2:\n",
        "                      suggest_dict = {k: v for k, v in suggest_dict.items() if v[1] <= min_suggest_len}\n",
        "\n",
        "      assert len(string) >= len(q_item)\n",
        "      if (verbose < 2) and ((len(string) - len(q_item)) > min_suggest_len):\n",
        "          pass\n",
        "      elif (len(string) - len(q_item)) < max_edit_distance and len(q_item) > 1:\n",
        "          for c in range(len(q_item)):  # character index\n",
        "              word_minus_c = q_item[:c] + q_item[c + 1:]\n",
        "              if word_minus_c not in q_dictionary:\n",
        "                  queue.append(word_minus_c)\n",
        "                  q_dictionary[word_minus_c] = None  # arbitrary value, just to identify we checked this\n",
        "  \n",
        "  # queue is now empty: convert suggestions in dictionary to list for output\n",
        "  if not silent and verbose != 0:\n",
        "      print(\"number of possible corrections: %i\" % len(suggest_dict))\n",
        "      print(\"  edit distance for deletions: %i\" % max_edit_distance)\n",
        "\n",
        "  # return list of suggestions with (correction,(frequency in corpus, edit distance)):\n",
        "  outlist = list(suggest_dict.items())\n",
        "  if len(outlist)==0:\n",
        "    return string\n",
        "\n",
        "  if verbose == 0:\n",
        "      outlist = sorted(outlist, key=lambda x: (x[1][1], -x[1][0]))\n",
        "      return outlist[0][0]\n",
        "  else:\n",
        "      return outlist\n",
        "\n",
        "def symspell_correction(s, silent=True):\n",
        "    try:\n",
        "        return symspell_candidates(s, silent,verbose=0)\n",
        "    except:\n",
        "        return s"
      ]
    },
    {
      "cell_type": "markdown",
      "metadata": {
        "id": "Yh8LpUKLq5Xm"
      },
      "source": [
        "Now i would like to demonstrate perfomance wise between symspell and norvig algorithms Next is a code block taken from [Norvig spell check website](https://norvig.com/spell-correct.html) in the Evaluation section with a [small data](https://norvig.com/spell-testset1.txt) set for accuracy and perfomance measure"
      ]
    },
    {
      "cell_type": "code",
      "execution_count": 126,
      "metadata": {
        "colab": {
          "base_uri": "https://localhost:8080/"
        },
        "id": "qiptYb3jjGBd",
        "outputId": "14cf97dd-1abe-4ae6-ec29-3d8ddb56b786"
      },
      "outputs": [
        {
          "name": "stdout",
          "output_type": "stream",
          "text": [
            "The old norvig\n",
            "75% of 270 correct (6% unknown) at 26 WORDS per second \n",
            "The optimized symspell technique\n",
            "75% of 270 correct (6% unknown) at 152 WORDS per second \n"
          ]
        }
      ],
      "source": [
        "def spelltest(tests,func):\n",
        "    \"Run correction(wrong) on all (right, wrong) pairs; report results.\"\n",
        "    import time\n",
        "    start = time.process_time()\n",
        "    good, unknown = 0, 0\n",
        "    n = len(tests)\n",
        "    for right, wrong in tests:\n",
        "        w = func(wrong)\n",
        "        good += (w == right)\n",
        "        if w != right:\n",
        "            unknown += (right not in My_dict)\n",
        "    dt = time.process_time() - start\n",
        "    print('{:.0%} of {} correct ({:.0%} unknown) at {:.0f} WORDS per second '\n",
        "          .format(good / n, n, unknown / n, n / dt))\n",
        "    \n",
        "def Testset(lines):\n",
        "    \"\"\"Parse 'right: wrong1 wrong2' lines into \n",
        "    [('right', 'wrong1'), ('right', 'wrong2')] pairs.\"\"\"\n",
        "    return [(right, wrong)\n",
        "            for (right, wrongs) in (line.split(':') for line in lines)\n",
        "            for wrong in wrongs.split()]\n",
        "\n",
        "print('The old norvig')\n",
        "spelltest(Testset(open('/content/spell-testset1.txt')),old_correction)\n",
        "\n",
        "print('The optimized symspell technique')\n",
        "spelltest(Testset(open('/content/spell-testset1.txt')),symspell_correction)"
      ]
    },
    {
      "cell_type": "markdown",
      "metadata": {
        "id": "vwW4ZXWlnueS"
      },
      "source": [
        "Conclusion same result for both algorithms but pre calculation of about 5 seconds once at the beginning for symspell is worth for the perfomance boost ***26 up to 152 words per second*** that is gives for the spell checker processing helping in producing a complex algorithm for the accuracy increase as well"
      ]
    },
    {
      "cell_type": "markdown",
      "metadata": {
        "id": "Hl4FxhcFt5xV"
      },
      "source": [
        "## Next combining symspell and bigrams techniques together"
      ]
    },
    {
      "cell_type": "code",
      "execution_count": null,
      "metadata": {
        "id": "gYhe00Oi_az3"
      },
      "outputs": [],
      "source": [
        "symspell_candidates('is',silent=True)"
      ]
    },
    {
      "cell_type": "code",
      "execution_count": 231,
      "metadata": {
        "id": "QQ8KlET33NMz"
      },
      "outputs": [],
      "source": [
        "def symspell_bigrams(sentence):\n",
        "  words=sentence.split()\n",
        "  for i in range(len(words)):\n",
        "    ##############\n",
        "    l=symspell_candidates(words[i],silent=True)\n",
        "    ##############\n",
        "    max=0\n",
        "    f=0\n",
        "    if type(l)==str or l[0][0]== words[i]:\n",
        "      continue\n",
        "    for j in range(len(l)):\n",
        "      if i==0:\n",
        "        temp=rightproba(l[j][0],words[i+1])#first word in sentence\n",
        "      elif i==len(words)-1:\n",
        "        temp=leftproba(words[i-1],l[j][0])#last word\n",
        "      else :\n",
        "        temp=totalproba(words[i-1],l[j][0],words[i+1])\n",
        "      if temp>max:\n",
        "        max=temp\n",
        "        f=1\n",
        "        words[i]=l[j][0]\n",
        "    if f==0:\n",
        "      ##########\n",
        "      words[i]=symspell_correction(words[i])\n",
        "      ##########\n",
        "  return words "
      ]
    },
    {
      "cell_type": "code",
      "execution_count": 258,
      "metadata": {
        "colab": {
          "base_uri": "https://localhost:8080/",
          "height": 34
        },
        "id": "ZCL8g2zT5E3r",
        "outputId": "5a281b9b-0545-486e-f48a-b84a37c1172a"
      },
      "outputs": [
        {
          "data": {
            "text/html": [
              "<text style=color:white>the <text style=color:red>cta</text> is <text style=color:red>baetiful</text> <text style=color:white>>>></text> the <text style=color:green>it</text> is <text style=color:green>beautiful</text></text>"
            ],
            "text/plain": [
              "<IPython.core.display.HTML object>"
            ]
          },
          "execution_count": 258,
          "metadata": {},
          "output_type": "execute_result"
        }
      ],
      "source": [
        "#Same correction approach using bigrams but with performance optimization of symspell\n",
        "sentence='the cta is baetiful'\n",
        "output=varient_norvig_spellcheck(sentence,symspell_bigrams)\n",
        "html_print(cstr(' '.join(output)))"
      ]
    },
    {
      "cell_type": "markdown",
      "metadata": {
        "id": "zTj3Skao8Vxa"
      },
      "source": [
        "There are still false correction due to biased data set because the word **it** occurs more with **the** and **is** than **city** or **cat** model takes left and right bigrams to consideration"
      ]
    },
    {
      "cell_type": "code",
      "execution_count": 261,
      "metadata": {
        "colab": {
          "base_uri": "https://localhost:8080/"
        },
        "id": "VPm5RKuY8yIl",
        "outputId": "2c8b6904-1063-431e-b741-6332ae60642a"
      },
      "outputs": [
        {
          "name": "stdout",
          "output_type": "stream",
          "text": [
            "0   1673\n",
            "1   0\n",
            "78   1\n"
          ]
        }
      ],
      "source": [
        "print(bigrams['the','it'],' ',bigrams['it','is'])#most frequent\n",
        "print(bigrams['the','cat'],' ',bigrams['cat','is'])\n",
        "print(bigrams['the','city'],' ',bigrams['city','is'])"
      ]
    },
    {
      "cell_type": "markdown",
      "metadata": {
        "id": "P12xlZs49xFh"
      },
      "source": [
        "more over if we take only left bigrams in error calculation **cta** would be corrected to **city** the most frequent "
      ]
    },
    {
      "cell_type": "markdown",
      "metadata": {
        "id": "ygtywFmRBwST"
      },
      "source": [
        "Next steps working on using pos tags to my advantage next i have done some pos tagging analysis also would like to use bigger data sets the following is simple basic demo for demonstrating the effect of pos tags to be continued in future--"
      ]
    },
    {
      "cell_type": "code",
      "execution_count": 336,
      "metadata": {
        "id": "tvTAyNyA32zK"
      },
      "outputs": [],
      "source": [
        "pos_tagged_dict=Counter(generate_N_grams(nltk.pos_tag(words(open('big.txt').read()),tagset='universal')))"
      ]
    },
    {
      "cell_type": "markdown",
      "metadata": {
        "id": "8nyiMIhICIYV"
      },
      "source": [
        "here using the idea of bigrams i output the most commom sequences a pos tag before it and after as well"
      ]
    },
    {
      "cell_type": "code",
      "execution_count": 337,
      "metadata": {
        "colab": {
          "base_uri": "https://localhost:8080/"
        },
        "id": "EBxvRCFI35ef",
        "outputId": "f6476199-5bf7-459c-aa80-352f4ff7c54e"
      },
      "outputs": [
        {
          "data": {
            "text/plain": [
              "Counter({(('the', 'DET'), ('project', 'NOUN')): 95,\n",
              "         (('project', 'NOUN'), ('gutenberg', 'ADJ')): 7,\n",
              "         (('gutenberg', 'ADJ'), ('ebook', 'NOUN')): 7,\n",
              "         (('ebook', 'NOUN'), ('of', 'ADP')): 5,\n",
              "         (('of', 'ADP'), ('the', 'DET')): 12528,\n",
              "         (('the', 'DET'), ('adventures', 'NOUN')): 5,\n",
              "         (('adventures', 'NOUN'), ('of', 'ADP')): 7,\n",
              "         (('of', 'ADP'), ('sherlock', 'NOUN')): 7,\n",
              "         (('sherlock', 'NOUN'), ('holmes', 'NOUN')): 74,\n",
              "         (('holmes', 'NOUN'), ('by', 'ADP')): 3,\n",
              "         (('by', 'ADP'), ('sir', 'NOUN')): 10,\n",
              "         (('sir', 'NOUN'), ('arthur', 'NOUN')): 3,\n",
              "         (('arthur', 'NOUN'), ('conan', 'NOUN')): 4,\n",
              "         (('conan', 'NOUN'), ('doyle', 'ADJ')): 3,\n",
              "         (('doyle', 'ADJ'), ('15', 'NUM')): 1,\n",
              "         (('15', 'NUM'), ('in', 'ADP')): 1,\n",
              "         (('in', 'ADP'), ('our', 'PRON')): 82,\n",
              "         (('our', 'PRON'), ('series', 'NOUN')): 2,\n",
              "         (('series', 'NOUN'), ('by', 'ADP')): 2,\n",
              "         (('by', 'ADP'), ('sir', 'ADJ')): 3,\n",
              "         (('sir', 'ADJ'), ('arthur', 'NOUN')): 1,\n",
              "         (('conan', 'NOUN'), ('doyle', 'NOUN')): 1,\n",
              "         (('doyle', 'NOUN'), ('copyright', 'NOUN')): 1,\n",
              "         (('copyright', 'NOUN'), ('laws', 'NOUN')): 6,\n",
              "         (('laws', 'NOUN'), ('are', 'VERB')): 4,\n",
              "         (('are', 'VERB'), ('changing', 'VERB')): 2,\n",
              "         (('changing', 'VERB'), ('all', 'DET')): 2,\n",
              "         (('all', 'DET'), ('over', 'ADP')): 44,\n",
              "         (('over', 'ADP'), ('the', 'DET')): 407,\n",
              "         (('the', 'DET'), ('world', 'NOUN')): 192,\n",
              "         (('world', 'NOUN'), ('be', 'VERB')): 2,\n",
              "         (('be', 'VERB'), ('sure', 'ADJ')): 17,\n",
              "         (('sure', 'ADJ'), ('to', 'PRT')): 16,\n",
              "         (('to', 'PRT'), ('check', 'VERB')): 13,\n",
              "         (('check', 'VERB'), ('the', 'DET')): 17,\n",
              "         (('the', 'DET'), ('copyright', 'NOUN')): 12,\n",
              "         (('laws', 'NOUN'), ('for', 'ADP')): 8,\n",
              "         (('for', 'ADP'), ('your', 'PRON')): 36,\n",
              "         (('your', 'PRON'), ('country', 'NOUN')): 4,\n",
              "         (('country', 'NOUN'), ('before', 'ADP')): 2,\n",
              "         (('before', 'ADP'), ('downloading', 'VERB')): 4,\n",
              "         (('downloading', 'VERB'), ('or', 'CONJ')): 2,\n",
              "         (('or', 'CONJ'), ('redistributing', 'VERB')): 2,\n",
              "         (('redistributing', 'VERB'), ('this', 'DET')): 2,\n",
              "         (('this', 'DET'), ('or', 'CONJ')): 24,\n",
              "         (('or', 'CONJ'), ('any', 'DET')): 41,\n",
              "         (('any', 'DET'), ('other', 'ADJ')): 67,\n",
              "         (('other', 'ADJ'), ('project', 'NOUN')): 4,\n",
              "         (('project', 'NOUN'), ('gutenberg', 'NOUN')): 192,\n",
              "         (('gutenberg', 'NOUN'), ('ebook', 'VERB')): 4,\n",
              "         (('ebook', 'VERB'), ('this', 'DET')): 2,\n",
              "         (('this', 'DET'), ('header', 'NOUN')): 2,\n",
              "         (('header', 'NOUN'), ('should', 'VERB')): 2,\n",
              "         (('should', 'VERB'), ('be', 'VERB')): 576,\n",
              "         (('be', 'VERB'), ('the', 'DET')): 186,\n",
              "         (('the', 'DET'), ('first', 'ADJ')): 650,\n",
              "         (('first', 'ADJ'), ('thing', 'NOUN')): 9,\n",
              "         (('thing', 'NOUN'), ('seen', 'VERB')): 2,\n",
              "         (('seen', 'VERB'), ('when', 'ADV')): 3,\n",
              "         (('when', 'ADV'), ('viewing', 'VERB')): 2,\n",
              "         (('viewing', 'VERB'), ('this', 'DET')): 3,\n",
              "         (('this', 'DET'), ('project', 'NOUN')): 15,\n",
              "         (('project', 'NOUN'), ('gutenberg', 'VERB')): 26,\n",
              "         (('gutenberg', 'VERB'), ('file', 'ADJ')): 2,\n",
              "         (('file', 'ADJ'), ('please', 'NOUN')): 2,\n",
              "         (('please', 'NOUN'), ('do', 'VERB')): 7,\n",
              "         (('do', 'VERB'), ('not', 'ADV')): 266,\n",
              "         (('not', 'ADV'), ('remove', 'VERB')): 6,\n",
              "         (('remove', 'VERB'), ('it', 'PRON')): 3,\n",
              "         (('it', 'PRON'), ('do', 'VERB')): 8,\n",
              "         (('not', 'ADV'), ('change', 'VERB')): 5,\n",
              "         (('change', 'VERB'), ('or', 'CONJ')): 2,\n",
              "         (('or', 'CONJ'), ('edit', 'VERB')): 2,\n",
              "         (('edit', 'VERB'), ('the', 'DET')): 2,\n",
              "         (('the', 'DET'), ('header', 'NOUN')): 2,\n",
              "         (('header', 'NOUN'), ('without', 'ADP')): 2,\n",
              "         (('without', 'ADP'), ('written', 'VERB')): 2,\n",
              "         (('written', 'VERB'), ('permission', 'NOUN')): 2,\n",
              "         (('permission', 'NOUN'), ('please', 'NOUN')): 2,\n",
              "         (('please', 'NOUN'), ('read', 'VERB')): 4,\n",
              "         (('read', 'VERB'), ('the', 'DET')): 36,\n",
              "         (('the', 'DET'), ('legal', 'ADJ')): 11,\n",
              "         (('legal', 'ADJ'), ('small', 'ADJ')): 4,\n",
              "         (('small', 'ADJ'), ('print', 'NOUN')): 20,\n",
              "         (('print', 'NOUN'), ('and', 'CONJ')): 5,\n",
              "         (('and', 'CONJ'), ('other', 'ADJ')): 146,\n",
              "         (('other', 'ADJ'), ('information', 'NOUN')): 2,\n",
              "         (('information', 'NOUN'), ('about', 'ADP')): 23,\n",
              "         (('about', 'ADP'), ('the', 'DET')): 281,\n",
              "         (('the', 'DET'), ('ebook', 'NOUN')): 18,\n",
              "         (('ebook', 'NOUN'), ('and', 'CONJ')): 2,\n",
              "         (('and', 'CONJ'), ('project', 'NOUN')): 4,\n",
              "         (('gutenberg', 'NOUN'), ('at', 'ADP')): 2,\n",
              "         (('at', 'ADP'), ('the', 'DET')): 2103,\n",
              "         (('the', 'DET'), ('bottom', 'NOUN')): 28,\n",
              "         (('bottom', 'NOUN'), ('of', 'ADP')): 16,\n",
              "         (('of', 'ADP'), ('this', 'DET')): 423,\n",
              "         (('this', 'DET'), ('file', 'NOUN')): 9,\n",
              "         (('file', 'NOUN'), ('included', 'VERB')): 2,\n",
              "         (('included', 'VERB'), ('is', 'VERB')): 2,\n",
              "         (('is', 'VERB'), ('important', 'ADJ')): 15,\n",
              "         (('important', 'ADJ'), ('information', 'NOUN')): 2,\n",
              "         (('about', 'ADP'), ('your', 'PRON')): 18,\n",
              "         (('your', 'PRON'), ('specific', 'ADJ')): 2,\n",
              "         (('specific', 'ADJ'), ('rights', 'NOUN')): 3,\n",
              "         (('rights', 'NOUN'), ('and', 'CONJ')): 24,\n",
              "         (('and', 'CONJ'), ('restrictions', 'NOUN')): 2,\n",
              "         (('restrictions', 'NOUN'), ('in', 'ADP')): 3,\n",
              "         (('in', 'ADP'), ('how', 'ADV')): 12,\n",
              "         (('how', 'ADV'), ('the', 'DET')): 54,\n",
              "         (('the', 'DET'), ('file', 'NOUN')): 2,\n",
              "         (('file', 'NOUN'), ('may', 'VERB')): 2,\n",
              "         (('may', 'VERB'), ('be', 'VERB')): 1025,\n",
              "         (('be', 'VERB'), ('used', 'VERB')): 46,\n",
              "         (('used', 'VERB'), ('you', 'PRON')): 2,\n",
              "         (('you', 'PRON'), ('can', 'VERB')): 134,\n",
              "         (('can', 'VERB'), ('also', 'ADV')): 3,\n",
              "         (('also', 'ADV'), ('find', 'VERB')): 2,\n",
              "         (('find', 'VERB'), ('out', 'PRT')): 22,\n",
              "         (('out', 'PRT'), ('about', 'ADP')): 6,\n",
              "         (('about', 'ADP'), ('how', 'ADV')): 6,\n",
              "         (('how', 'ADV'), ('to', 'PRT')): 100,\n",
              "         (('to', 'PRT'), ('make', 'VERB')): 234,\n",
              "         (('make', 'VERB'), ('a', 'DET')): 57,\n",
              "         (('a', 'DET'), ('donation', 'NOUN')): 2,\n",
              "         (('donation', 'NOUN'), ('to', 'PRT')): 2,\n",
              "         (('to', 'PRT'), ('project', 'VERB')): 19,\n",
              "         (('project', 'VERB'), ('gutenberg', 'NOUN')): 8,\n",
              "         (('gutenberg', 'NOUN'), ('and', 'CONJ')): 2,\n",
              "         (('and', 'CONJ'), ('how', 'ADV')): 137,\n",
              "         (('to', 'PRT'), ('get', 'VERB')): 195,\n",
              "         (('get', 'VERB'), ('involved', 'ADJ')): 2,\n",
              "         (('involved', 'ADJ'), ('welcome', 'NOUN')): 2,\n",
              "         (('welcome', 'NOUN'), ('to', 'PRT')): 2,\n",
              "         (('to', 'PRT'), ('the', 'DET')): 4464,\n",
              "         (('world', 'NOUN'), ('of', 'ADP')): 18,\n",
              "         (('of', 'ADP'), ('free', 'ADJ')): 40,\n",
              "         (('free', 'ADJ'), ('plain', 'NOUN')): 2,\n",
              "         (('plain', 'NOUN'), ('vanilla', 'NOUN')): 4,\n",
              "         (('vanilla', 'NOUN'), ('electronic', 'ADJ')): 2,\n",
              "         (('electronic', 'ADJ'), ('texts', 'NOUN')): 2,\n",
              "         (('texts', 'NOUN'), ('ebooks', 'NOUN')): 2,\n",
              "         (('ebooks', 'NOUN'), ('readable', 'ADJ')): 2,\n",
              "         (('readable', 'ADJ'), ('by', 'ADP')): 4,\n",
              "         (('by', 'ADP'), ('both', 'DET')): 10,\n",
              "         (('both', 'DET'), ('humans', 'NOUN')): 2,\n",
              "         (('humans', 'NOUN'), ('and', 'CONJ')): 2,\n",
              "         (('and', 'CONJ'), ('by', 'ADP')): 180,\n",
              "         (('by', 'ADP'), ('computers', 'NOUN')): 2,\n",
              "         (('computers', 'NOUN'), ('since', 'ADP')): 2,\n",
              "         (('since', 'ADP'), ('1971', 'NUM')): 2,\n",
              "         (('1971', 'NUM'), ('these', 'DET')): 2,\n",
              "         (('these', 'DET'), ('ebooks', 'NOUN')): 2,\n",
              "         (('ebooks', 'NOUN'), ('were', 'VERB')): 2,\n",
              "         (('were', 'VERB'), ('prepared', 'VERB')): 7,\n",
              "         (('prepared', 'VERB'), ('by', 'ADP')): 10,\n",
              "         (('by', 'ADP'), ('thousands', 'NOUN')): 3,\n",
              "         (('thousands', 'NOUN'), ('of', 'ADP')): 74,\n",
              "         (('of', 'ADP'), ('volunteers', 'NOUN')): 4,\n",
              "         (('volunteers', 'NOUN'), ('title', 'VERB')): 1,\n",
              "         (('title', 'VERB'), ('the', 'DET')): 1,\n",
              "         (('holmes', 'NOUN'), ('author', 'VERB')): 1,\n",
              "         (('author', 'VERB'), ('sir', 'NOUN')): 1,\n",
              "         (('doyle', 'ADJ'), ('release', 'NOUN')): 1,\n",
              "         (('release', 'NOUN'), ('date', 'NOUN')): 5,\n",
              "         (('date', 'NOUN'), ('march', 'NOUN')): 2,\n",
              "         (('march', 'NOUN'), ('1999', 'NUM')): 1,\n",
              "         (('1999', 'NUM'), ('ebook', 'NOUN')): 1,\n",
              "         (('ebook', 'NOUN'), ('1661', 'NUM')): 1,\n",
              "         (('1661', 'NUM'), ('most', 'ADV')): 1,\n",
              "         (('most', 'ADV'), ('recently', 'ADV')): 2,\n",
              "         (('recently', 'ADV'), ('updated', 'VERB')): 2,\n",
              "         (('updated', 'VERB'), ('november', 'ADV')): 1,\n",
              "         (('november', 'ADV'), ('29', 'NUM')): 1,\n",
              "         (('29', 'NUM'), ('2002', 'NUM')): 1,\n",
              "         (('2002', 'NUM'), ('edition', 'NOUN')): 1,\n",
              "         (('edition', 'NOUN'), ('12', 'NUM')): 1,\n",
              "         (('12', 'NUM'), ('language', 'NOUN')): 1,\n",
              "         (('language', 'NOUN'), ('english', 'ADJ')): 4,\n",
              "         (('english', 'ADJ'), ('character', 'NOUN')): 4,\n",
              "         (('character', 'NOUN'), ('set', 'VERB')): 4,\n",
              "         (('set', 'VERB'), ('encoding', 'VERB')): 4,\n",
              "         (('encoding', 'VERB'), ('ascii', 'ADJ')): 1,\n",
              "         (('ascii', 'ADJ'), ('start', 'NOUN')): 2,\n",
              "         (('start', 'NOUN'), ('of', 'ADP')): 4,\n",
              "         (('ebook', 'VERB'), ('the', 'DET')): 2,\n",
              "         (('holmes', 'NOUN'), ('additional', 'ADJ')): 1,\n",
              "         (('additional', 'ADJ'), ('editing', 'NOUN')): 1,\n",
              "         (('editing', 'NOUN'), ('by', 'ADP')): 3,\n",
              "         (('by', 'ADP'), ('jose', 'ADJ')): 1,\n",
              "         (('jose', 'ADJ'), ('menendez', 'NOUN')): 1,\n",
              "         (('menendez', 'NOUN'), ('the', 'DET')): 1,\n",
              "         (('doyle', 'ADJ'), ('contents', 'NOUN')): 1,\n",
              "         (('contents', 'NOUN'), ('i', 'VERB')): 1,\n",
              "         (('i', 'VERB'), ('a', 'DET')): 5,\n",
              "         (('a', 'DET'), ('scandal', 'NOUN')): 5,\n",
              "         (('scandal', 'NOUN'), ('in', 'ADP')): 3,\n",
              "         (('in', 'ADP'), ('bohemia', 'NOUN')): 4,\n",
              "         (('bohemia', 'NOUN'), ('ii', 'VERB')): 1,\n",
              "         (('ii', 'VERB'), ('the', 'DET')): 5,\n",
              "         (('the', 'DET'), ('red', 'ADJ')): 50,\n",
              "         (('red', 'ADJ'), ('headed', 'VERB')): 20,\n",
              "         (('headed', 'VERB'), ('league', 'NOUN')): 7,\n",
              "         (('league', 'NOUN'), ('iii', 'NOUN')): 1,\n",
              "         (('iii', 'NOUN'), ('a', 'DET')): 1,\n",
              "         (('a', 'DET'), ('case', 'NOUN')): 29,\n",
              "         (('case', 'NOUN'), ('of', 'ADP')): 129,\n",
              "         (('of', 'ADP'), ('identity', 'NOUN')): 2,\n",
              "         (('identity', 'NOUN'), ('iv', 'VERB')): 1,\n",
              "         (('iv', 'VERB'), ('the', 'DET')): 12,\n",
              "         (('the', 'DET'), ('boscombe', 'NOUN')): 10,\n",
              "         (('boscombe', 'NOUN'), ('valley', 'NOUN')): 3,\n",
              "         (('valley', 'NOUN'), ('mystery', 'NOUN')): 2,\n",
              "         (('mystery', 'NOUN'), ('v', 'ADP')): 1,\n",
              "         (('v', 'ADP'), ('the', 'DET')): 4,\n",
              "         (('the', 'DET'), ('five', 'NUM')): 12,\n",
              "         (('five', 'NUM'), ('orange', 'NOUN')): 2,\n",
              "         (('orange', 'NOUN'), ('pips', 'NOUN')): 7,\n",
              "         (('pips', 'NOUN'), ('vi', 'VERB')): 1,\n",
              "         (('vi', 'VERB'), ('the', 'DET')): 4,\n",
              "         (('the', 'DET'), ('man', 'NOUN')): 190,\n",
              "         (('man', 'NOUN'), ('with', 'ADP')): 66,\n",
              "         (('with', 'ADP'), ('the', 'DET')): 1735,\n",
              "         (('the', 'DET'), ('twisted', 'ADJ')): 6,\n",
              "         (('twisted', 'ADJ'), ('lip', 'NOUN')): 5,\n",
              "         (('lip', 'NOUN'), ('vii', 'ADP')): 1,\n",
              "         (('vii', 'ADP'), ('the', 'DET')): 4,\n",
              "         (('the', 'DET'), ('adventure', 'NOUN')): 15,\n",
              "         (('adventure', 'NOUN'), ('of', 'ADP')): 14,\n",
              "         (('the', 'DET'), ('blue', 'ADJ')): 17,\n",
              "         (('blue', 'ADJ'), ('carbuncle', 'NOUN')): 4,\n",
              "         (('carbuncle', 'NOUN'), ('viii', 'ADP')): 1,\n",
              "         (('viii', 'ADP'), ('the', 'DET')): 9,\n",
              "         (('the', 'DET'), ('speckled', 'ADJ')): 4,\n",
              "         (('speckled', 'ADJ'), ('band', 'NOUN')): 5,\n",
              "         (('band', 'NOUN'), ('ix', 'VERB')): 1,\n",
              "         (('ix', 'VERB'), ('the', 'DET')): 10,\n",
              "         (('the', 'DET'), ('engineer', 'NOUN')): 4,\n",
              "         (('engineer', 'NOUN'), ('s', 'NOUN')): 1,\n",
              "         (('s', 'NOUN'), ('thumb', 'NOUN')): 3,\n",
              "         (('thumb', 'NOUN'), ('x', 'VERB')): 1,\n",
              "         (('x', 'VERB'), ('the', 'DET')): 6,\n",
              "         (('the', 'DET'), ('noble', 'ADJ')): 8,\n",
              "         (('noble', 'ADJ'), ('bachelor', 'NOUN')): 3,\n",
              "         (('bachelor', 'NOUN'), ('xi', 'VERB')): 1,\n",
              "         (('xi', 'VERB'), ('the', 'DET')): 5,\n",
              "         (('the', 'DET'), ('beryl', 'ADJ')): 2,\n",
              "         (('beryl', 'ADJ'), ('coronet', 'NOUN')): 2,\n",
              "         (('coronet', 'NOUN'), ('xii', 'VERB')): 1,\n",
              "         (('xii', 'VERB'), ('the', 'DET')): 5,\n",
              "         (('the', 'DET'), ('copper', 'NOUN')): 13,\n",
              "         (('copper', 'NOUN'), ('beeches', 'VERB')): 7,\n",
              "         (('beeches', 'VERB'), ('adventure', 'NOUN')): 1,\n",
              "         (('adventure', 'NOUN'), ('i', 'VERB')): 1,\n",
              "         (('bohemia', 'NOUN'), ('i', 'NOUN')): 3,\n",
              "         (('i', 'NOUN'), ('to', 'PRT')): 5,\n",
              "         (('to', 'PRT'), ('sherlock', 'VERB')): 2,\n",
              "         (('sherlock', 'VERB'), ('holmes', 'NOUN')): 9,\n",
              "         (('holmes', 'NOUN'), ('she', 'PRON')): 2,\n",
              "         (('she', 'PRON'), ('is', 'VERB')): 127,\n",
              "         (('is', 'VERB'), ('always', 'ADV')): 59,\n",
              "         (('always', 'ADV'), ('the', 'DET')): 23,\n",
              "         (('the', 'DET'), ('woman', 'NOUN')): 41,\n",
              "         (('woman', 'NOUN'), ('i', 'NOUN')): 6,\n",
              "         (('i', 'NOUN'), ('have', 'VERB')): 528,\n",
              "         (('have', 'VERB'), ('seldom', 'VERB')): 2,\n",
              "         (('seldom', 'VERB'), ('heard', 'ADV')): 1,\n",
              "         (('heard', 'ADV'), ('him', 'PRON')): 1,\n",
              "         (('him', 'PRON'), ('mention', 'VERB')): 1,\n",
              "         (('mention', 'VERB'), ('her', 'PRON')): 2,\n",
              "         (('her', 'PRON'), ('under', 'ADP')): 3,\n",
              "         (('under', 'ADP'), ('any', 'DET')): 7,\n",
              "         (('other', 'ADJ'), ('name', 'NOUN')): 1,\n",
              "         (('name', 'NOUN'), ('in', 'ADP')): 4,\n",
              "         (('in', 'ADP'), ('his', 'PRON')): 801,\n",
              "         (('his', 'PRON'), ('eyes', 'NOUN')): 331,\n",
              "         (('eyes', 'NOUN'), ('she', 'PRON')): 14,\n",
              "         (('she', 'PRON'), ('eclipses', 'VERB')): 1,\n",
              "         (('eclipses', 'VERB'), ('and', 'CONJ')): 1,\n",
              "         (('and', 'CONJ'), ('predominates', 'VERB')): 1,\n",
              "         (('predominates', 'VERB'), ('the', 'DET')): 1,\n",
              "         (('the', 'DET'), ('whole', 'NOUN')): 61,\n",
              "         (('whole', 'NOUN'), ('of', 'ADP')): 39,\n",
              "         (('of', 'ADP'), ('her', 'PRON')): 384,\n",
              "         (('her', 'PRON'), ('sex', 'NOUN')): 1,\n",
              "         (('sex', 'NOUN'), ('it', 'PRON')): 1,\n",
              "         (('it', 'PRON'), ('was', 'VERB')): 1535,\n",
              "         (('was', 'VERB'), ('not', 'ADV')): 458,\n",
              "         (('not', 'ADV'), ('that', 'ADP')): 28,\n",
              "         (('that', 'ADP'), ('he', 'PRON')): 882,\n",
              "         (('he', 'PRON'), ('felt', 'VERB')): 169,\n",
              "         (('felt', 'VERB'), ('any', 'DET')): 3,\n",
              "         (('any', 'DET'), ('emotion', 'NOUN')): 1,\n",
              "         (('emotion', 'NOUN'), ('akin', 'NOUN')): 1,\n",
              "         (('akin', 'NOUN'), ('to', 'PRT')): 6,\n",
              "         (('to', 'PRT'), ('love', 'VERB')): 33,\n",
              "         (('love', 'VERB'), ('for', 'ADP')): 4,\n",
              "         (('for', 'ADP'), ('irene', 'ADJ')): 1,\n",
              "         (('irene', 'ADJ'), ('adler', 'NOUN')): 4,\n",
              "         (('adler', 'NOUN'), ('all', 'DET')): 1,\n",
              "         (('all', 'DET'), ('emotions', 'NOUN')): 1,\n",
              "         (('emotions', 'NOUN'), ('and', 'CONJ')): 1,\n",
              "         (('and', 'CONJ'), ('that', 'DET')): 102,\n",
              "         (('that', 'DET'), ('one', 'NUM')): 10,\n",
              "         (('one', 'NUM'), ('particularly', 'ADV')): 2,\n",
              "         (('particularly', 'ADV'), ('were', 'VERB')): 1,\n",
              "         (('were', 'VERB'), ('abhorrent', 'ADJ')): 1,\n",
              "         (('abhorrent', 'ADJ'), ('to', 'PRT')): 1,\n",
              "         (('to', 'PRT'), ('his', 'PRON')): 590,\n",
              "         (('his', 'PRON'), ('cold', 'ADJ')): 8,\n",
              "         (('cold', 'ADJ'), ('precise', 'NOUN')): 1,\n",
              "         (('precise', 'NOUN'), ('but', 'CONJ')): 1,\n",
              "         (('but', 'CONJ'), ('admirably', 'ADV')): 1,\n",
              "         (('admirably', 'ADV'), ('balanced', 'VERB')): 1,\n",
              "         (('balanced', 'VERB'), ('mind', 'ADP')): 1,\n",
              "         (('mind', 'ADP'), ('he', 'PRON')): 1,\n",
              "         (('he', 'PRON'), ('was', 'VERB')): 1205,\n",
              "         (('was', 'VERB'), ('i', 'ADJ')): 11,\n",
              "         (('i', 'ADJ'), ('take', 'VERB')): 5,\n",
              "         (('take', 'VERB'), ('it', 'PRON')): 45,\n",
              "         (('it', 'PRON'), ('the', 'DET')): 156,\n",
              "         (('the', 'DET'), ('most', 'ADV')): 343,\n",
              "         (('most', 'ADV'), ('perfect', 'ADJ')): 2,\n",
              "         (('perfect', 'ADJ'), ('reasoning', 'NOUN')): 1,\n",
              "         (('reasoning', 'NOUN'), ('and', 'CONJ')): 1,\n",
              "         (('and', 'CONJ'), ('observing', 'VERB')): 3,\n",
              "         (('observing', 'VERB'), ('machine', 'NOUN')): 1,\n",
              "         (('machine', 'NOUN'), ('that', 'ADP')): 1,\n",
              "         (('that', 'ADP'), ('the', 'DET')): 1362,\n",
              "         (('world', 'NOUN'), ('has', 'VERB')): 2,\n",
              "         (('has', 'VERB'), ('seen', 'VERB')): 4,\n",
              "         (('seen', 'VERB'), ('but', 'CONJ')): 4,\n",
              "         (('but', 'CONJ'), ('as', 'ADP')): 96,\n",
              "         (('as', 'ADP'), ('a', 'DET')): 858,\n",
              "         (('a', 'DET'), ('lover', 'NOUN')): 9,\n",
              "         (('lover', 'NOUN'), ('he', 'PRON')): 2,\n",
              "         (('he', 'PRON'), ('would', 'VERB')): 340,\n",
              "         (('would', 'VERB'), ('have', 'VERB')): 274,\n",
              "         (('have', 'VERB'), ('placed', 'VERB')): 3,\n",
              "         (('placed', 'VERB'), ('himself', 'PRON')): 4,\n",
              "         (('himself', 'PRON'), ('in', 'ADP')): 63,\n",
              "         (('in', 'ADP'), ('a', 'DET')): 1409,\n",
              "         (('a', 'DET'), ('false', 'ADJ')): 10,\n",
              "         (('false', 'ADJ'), ('position', 'NOUN')): 1,\n",
              "         (('position', 'NOUN'), ('he', 'PRON')): 15,\n",
              "         (('he', 'PRON'), ('never', 'ADV')): 30,\n",
              "         (('never', 'ADV'), ('spoke', 'VERB')): 5,\n",
              "         (('spoke', 'VERB'), ('of', 'ADP')): 36,\n",
              "         (('the', 'DET'), ('softer', 'ADJ')): 4,\n",
              "         (('softer', 'ADJ'), ('passions', 'NOUN')): 1,\n",
              "         (('passions', 'NOUN'), ('save', 'VERB')): 1,\n",
              "         (('save', 'VERB'), ('with', 'ADP')): 1,\n",
              "         (('with', 'ADP'), ('a', 'DET')): 1386,\n",
              "         (('a', 'DET'), ('gibe', 'NOUN')): 1,\n",
              "         (('gibe', 'NOUN'), ('and', 'CONJ')): 1,\n",
              "         (('and', 'CONJ'), ('a', 'DET')): 688,\n",
              "         (('a', 'DET'), ('sneer', 'NOUN')): 2,\n",
              "         (('sneer', 'NOUN'), ('they', 'PRON')): 1,\n",
              "         (('they', 'PRON'), ('were', 'VERB')): 488,\n",
              "         (('were', 'VERB'), ('admirable', 'ADJ')): 1,\n",
              "         (('admirable', 'ADJ'), ('things', 'NOUN')): 1,\n",
              "         (('things', 'NOUN'), ('for', 'ADP')): 6,\n",
              "         (('for', 'ADP'), ('the', 'DET')): 1331,\n",
              "         (('the', 'DET'), ('observer', 'NOUN')): 3,\n",
              "         (('observer', 'NOUN'), ('excellent', 'NOUN')): 1,\n",
              "         (('excellent', 'NOUN'), ('for', 'ADP')): 1,\n",
              "         (('for', 'ADP'), ('drawing', 'VERB')): 3,\n",
              "         (('drawing', 'VERB'), ('the', 'DET')): 8,\n",
              "         (('the', 'DET'), ('veil', 'NOUN')): 5,\n",
              "         (('veil', 'NOUN'), ('from', 'ADP')): 2,\n",
              "         (('from', 'ADP'), ('men', 'NOUN')): 5,\n",
              "         (('men', 'NOUN'), ('s', 'VERB')): 22,\n",
              "         (('s', 'VERB'), ('motives', 'NOUN')): 1,\n",
              "         (('motives', 'NOUN'), ('and', 'CONJ')): 1,\n",
              "         (('and', 'CONJ'), ('actions', 'NOUN')): 3,\n",
              "         (('actions', 'NOUN'), ('but', 'CONJ')): 3,\n",
              "         (('but', 'CONJ'), ('for', 'ADP')): 43,\n",
              "         (('the', 'DET'), ('trained', 'ADJ')): 1,\n",
              "         (('trained', 'ADJ'), ('reasoner', 'NOUN')): 1,\n",
              "         (('reasoner', 'NOUN'), ('to', 'PRT')): 1,\n",
              "         (('to', 'PRT'), ('admit', 'VERB')): 29,\n",
              "         (('admit', 'VERB'), ('such', 'ADJ')): 1,\n",
              "         (('such', 'ADJ'), ('intrusions', 'NOUN')): 1,\n",
              "         (('intrusions', 'NOUN'), ('into', 'ADP')): 1,\n",
              "         (('into', 'ADP'), ('his', 'PRON')): 77,\n",
              "         (('his', 'PRON'), ('own', 'ADJ')): 309,\n",
              "         (('own', 'ADJ'), ('delicate', 'NOUN')): 1,\n",
              "         (('delicate', 'NOUN'), ('and', 'CONJ')): 4,\n",
              "         (('and', 'CONJ'), ('finely', 'ADV')): 1,\n",
              "         (('finely', 'ADV'), ('adjusted', 'VERB')): 1,\n",
              "         (('adjusted', 'VERB'), ('temperament', 'NOUN')): 1,\n",
              "         (('temperament', 'NOUN'), ('was', 'VERB')): 1,\n",
              "         (('was', 'VERB'), ('to', 'PRT')): 204,\n",
              "         (('to', 'PRT'), ('introduce', 'VERB')): 13,\n",
              "         (('introduce', 'VERB'), ('a', 'DET')): 3,\n",
              "         (('a', 'DET'), ('distracting', 'NOUN')): 1,\n",
              "         (('distracting', 'NOUN'), ('factor', 'NOUN')): 1,\n",
              "         (('factor', 'NOUN'), ('which', 'DET')): 2,\n",
              "         (('which', 'DET'), ('might', 'VERB')): 22,\n",
              "         (('might', 'VERB'), ('throw', 'VERB')): 1,\n",
              "         (('throw', 'VERB'), ('a', 'DET')): 3,\n",
              "         (('a', 'DET'), ('doubt', 'NOUN')): 5,\n",
              "         (('doubt', 'NOUN'), ('upon', 'ADP')): 1,\n",
              "         (('upon', 'ADP'), ('all', 'DET')): 10,\n",
              "         (('all', 'DET'), ('his', 'PRON')): 99,\n",
              "         (('his', 'PRON'), ('mental', 'ADJ')): 7,\n",
              "         (('mental', 'ADJ'), ('results', 'NOUN')): 1,\n",
              "         (('results', 'NOUN'), ('grit', 'VERB')): 1,\n",
              "         (('grit', 'VERB'), ('in', 'ADP')): 1,\n",
              "         (('a', 'DET'), ('sensitive', 'ADJ')): 1,\n",
              "         (('sensitive', 'ADJ'), ('instrument', 'NOUN')): 1,\n",
              "         (('instrument', 'NOUN'), ('or', 'CONJ')): 1,\n",
              "         (('or', 'CONJ'), ('a', 'DET')): 145,\n",
              "         (('a', 'DET'), ('crack', 'NOUN')): 4,\n",
              "         (('crack', 'NOUN'), ('in', 'ADP')): 3,\n",
              "         (('in', 'ADP'), ('one', 'NUM')): 132,\n",
              "         (('one', 'NUM'), ('of', 'ADP')): 681,\n",
              "         (('of', 'ADP'), ('his', 'PRON')): 1078,\n",
              "         (('own', 'ADJ'), ('high', 'ADJ')): 1,\n",
              "         (('high', 'ADJ'), ('power', 'NOUN')): 4,\n",
              "         (('power', 'NOUN'), ('lenses', 'NOUN')): 1,\n",
              "         (('lenses', 'NOUN'), ('would', 'VERB')): 1,\n",
              "         (('would', 'VERB'), ('not', 'ADV')): 208,\n",
              "         (('not', 'ADV'), ('be', 'VERB')): 260,\n",
              "         (('be', 'VERB'), ('more', 'ADV')): 17,\n",
              "         (('more', 'ADV'), ('disturbing', 'ADJ')): 1,\n",
              "         (('disturbing', 'ADJ'), ('than', 'ADP')): 1,\n",
              "         (('than', 'ADP'), ('a', 'DET')): 83,\n",
              "         (('a', 'DET'), ('strong', 'ADJ')): 42,\n",
              "         (('strong', 'ADJ'), ('emotion', 'NOUN')): 1,\n",
              "         (('emotion', 'NOUN'), ('in', 'ADP')): 4,\n",
              "         (('a', 'DET'), ('nature', 'NOUN')): 2,\n",
              "         (('nature', 'NOUN'), ('such', 'ADJ')): 2,\n",
              "         (('such', 'ADJ'), ('as', 'ADP')): 374,\n",
              "         (('as', 'ADP'), ('his', 'PRON')): 43,\n",
              "         (('his', 'PRON'), ('and', 'CONJ')): 10,\n",
              "         (('and', 'CONJ'), ('yet', 'ADV')): 106,\n",
              "         (('yet', 'ADV'), ('there', 'DET')): 11,\n",
              "         (('there', 'DET'), ('was', 'VERB')): 469,\n",
              "         (('was', 'VERB'), ('but', 'CONJ')): 19,\n",
              "         (('but', 'CONJ'), ('one', 'NUM')): 42,\n",
              "         (('one', 'NUM'), ('woman', 'NOUN')): 2,\n",
              "         (('woman', 'NOUN'), ('to', 'PRT')): 6,\n",
              "         (('to', 'PRT'), ('him', 'PRON')): 805,\n",
              "         (('him', 'PRON'), ('and', 'CONJ')): 574,\n",
              "         (('and', 'CONJ'), ('that', 'ADP')): 531,\n",
              "         (('that', 'ADP'), ('woman', 'NOUN')): 3,\n",
              "         (('woman', 'NOUN'), ('was', 'VERB')): 4,\n",
              "         (('was', 'VERB'), ('the', 'DET')): 584,\n",
              "         (('the', 'DET'), ('late', 'ADJ')): 13,\n",
              "         (('late', 'ADJ'), ('irene', 'NOUN')): 1,\n",
              "         (('irene', 'NOUN'), ('adler', 'NOUN')): 9,\n",
              "         (('adler', 'NOUN'), ('of', 'ADP')): 1,\n",
              "         (('of', 'ADP'), ('dubious', 'ADJ')): 1,\n",
              "         (('dubious', 'ADJ'), ('and', 'CONJ')): 1,\n",
              "         (('and', 'CONJ'), ('questionable', 'ADJ')): 1,\n",
              "         (('questionable', 'ADJ'), ('memory', 'NOUN')): 1,\n",
              "         (('memory', 'NOUN'), ('i', 'NOUN')): 3,\n",
              "         (('i', 'NOUN'), ('had', 'VERB')): 174,\n",
              "         (('had', 'VERB'), ('seen', 'VERB')): 86,\n",
              "         (('seen', 'VERB'), ('little', 'ADJ')): 1,\n",
              "         (('little', 'ADJ'), ('of', 'ADP')): 9,\n",
              "         (('of', 'ADP'), ('holmes', 'NOUN')): 3,\n",
              "         (('holmes', 'NOUN'), ('lately', 'ADV')): 1,\n",
              "         (('lately', 'ADV'), ('my', 'PRON')): 1,\n",
              "         (('my', 'PRON'), ('marriage', 'NOUN')): 2,\n",
              "         (('marriage', 'NOUN'), ('had', 'VERB')): 1,\n",
              "         (('had', 'VERB'), ('drifted', 'VERB')): 2,\n",
              "         (('drifted', 'VERB'), ('us', 'PRON')): 1,\n",
              "         (('us', 'PRON'), ('away', 'ADV')): 1,\n",
              "         (('away', 'ADV'), ('from', 'ADP')): 115,\n",
              "         (('from', 'ADP'), ('each', 'DET')): 12,\n",
              "         (('each', 'DET'), ('other', 'ADJ')): 54,\n",
              "         (('other', 'ADJ'), ('my', 'PRON')): 1,\n",
              "         (('my', 'PRON'), ('own', 'ADJ')): 70,\n",
              "         (('own', 'ADJ'), ('complete', 'ADJ')): 1,\n",
              "         (('complete', 'ADJ'), ('happiness', 'NOUN')): 1,\n",
              "         (('happiness', 'NOUN'), ('and', 'CONJ')): 13,\n",
              "         (('and', 'CONJ'), ('the', 'DET')): 3202,\n",
              "         (('the', 'DET'), ('home', 'NOUN')): 12,\n",
              "         (('home', 'NOUN'), ('centred', 'NOUN')): 1,\n",
              "         (('centred', 'NOUN'), ('interests', 'NOUN')): 1,\n",
              "         (('interests', 'NOUN'), ('which', 'DET')): 3,\n",
              "         (('which', 'DET'), ('rise', 'VERB')): 1,\n",
              "         (('rise', 'VERB'), ('up', 'PRT')): 1,\n",
              "         (('up', 'PRT'), ('around', 'ADP')): 2,\n",
              "         (('around', 'ADP'), ('the', 'DET')): 64,\n",
              "         (('man', 'NOUN'), ('who', 'PRON')): 175,\n",
              "         (('who', 'PRON'), ('first', 'ADJ')): 1,\n",
              "         (('first', 'ADJ'), ('finds', 'VERB')): 1,\n",
              "         (('finds', 'VERB'), ('himself', 'PRON')): 2,\n",
              "         (('himself', 'PRON'), ('master', 'NOUN')): 1,\n",
              "         (('master', 'NOUN'), ('of', 'ADP')): 12,\n",
              "         (('own', 'ADJ'), ('establishment', 'NOUN')): 1,\n",
              "         (('establishment', 'NOUN'), ('were', 'VERB')): 1,\n",
              "         (('were', 'VERB'), ('sufficient', 'ADJ')): 4,\n",
              "         (('sufficient', 'ADJ'), ('to', 'PRT')): 23,\n",
              "         (('to', 'PRT'), ('absorb', 'VERB')): 2,\n",
              "         (('absorb', 'VERB'), ('all', 'DET')): 1,\n",
              "         (('all', 'DET'), ('my', 'PRON')): 26,\n",
              "         (('my', 'PRON'), ('attention', 'NOUN')): 6,\n",
              "         (('attention', 'NOUN'), ('while', 'ADP')): 1,\n",
              "         (('while', 'ADP'), ('holmes', 'NOUN')): 3,\n",
              "         (('holmes', 'NOUN'), ('who', 'PRON')): 1,\n",
              "         (('who', 'PRON'), ('loathed', 'VERB')): 1,\n",
              "         (('loathed', 'VERB'), ('every', 'DET')): 1,\n",
              "         (('every', 'DET'), ('form', 'NOUN')): 8,\n",
              "         (('form', 'NOUN'), ('of', 'ADP')): 244,\n",
              "         (('of', 'ADP'), ('society', 'NOUN')): 18,\n",
              "         (('society', 'NOUN'), ('with', 'ADP')): 3,\n",
              "         (('with', 'ADP'), ('his', 'PRON')): 573,\n",
              "         (('his', 'PRON'), ('whole', 'ADJ')): 65,\n",
              "         (('whole', 'ADJ'), ('bohemian', 'ADJ')): 1,\n",
              "         (('bohemian', 'ADJ'), ('soul', 'NOUN')): 1,\n",
              "         (('soul', 'NOUN'), ('remained', 'VERB')): 1,\n",
              "         (('remained', 'VERB'), ('in', 'ADP')): 45,\n",
              "         (('our', 'PRON'), ('lodgings', 'NOUN')): 1,\n",
              "         (('lodgings', 'NOUN'), ('in', 'ADP')): 3,\n",
              "         (('in', 'ADP'), ('baker', 'NOUN')): 5,\n",
              "         (('baker', 'NOUN'), ('street', 'NOUN')): 23,\n",
              "         (('street', 'NOUN'), ('buried', 'VERB')): 1,\n",
              "         (('buried', 'VERB'), ('among', 'ADP')): 1,\n",
              "         (('among', 'ADP'), ('his', 'PRON')): 9,\n",
              "         (('his', 'PRON'), ('old', 'ADJ')): 36,\n",
              "         (('old', 'ADJ'), ('books', 'NOUN')): 1,\n",
              "         (('books', 'NOUN'), ('and', 'CONJ')): 9,\n",
              "         (('and', 'CONJ'), ('alternating', 'VERB')): 1,\n",
              "         (('alternating', 'VERB'), ('from', 'ADP')): 1,\n",
              "         (('from', 'ADP'), ('week', 'NOUN')): 1,\n",
              "         (('week', 'NOUN'), ('to', 'PRT')): 4,\n",
              "         (('to', 'PRT'), ('week', 'NOUN')): 1,\n",
              "         (('week', 'NOUN'), ('between', 'ADP')): 1,\n",
              "         (('between', 'ADP'), ('cocaine', 'NOUN')): 1,\n",
              "         (('cocaine', 'NOUN'), ('and', 'CONJ')): 3,\n",
              "         (('and', 'CONJ'), ('ambition', 'NOUN')): 2,\n",
              "         (('ambition', 'NOUN'), ('the', 'DET')): 1,\n",
              "         (('the', 'DET'), ('drowsiness', 'NOUN')): 1,\n",
              "         (('drowsiness', 'NOUN'), ('of', 'ADP')): 1,\n",
              "         (('the', 'DET'), ('drug', 'NOUN')): 12,\n",
              "         (('drug', 'NOUN'), ('and', 'CONJ')): 3,\n",
              "         (('the', 'DET'), ('fierce', 'ADJ')): 3,\n",
              "         (('fierce', 'ADJ'), ('energy', 'NOUN')): 1,\n",
              "         (('energy', 'NOUN'), ('of', 'ADP')): 4,\n",
              "         (('own', 'ADJ'), ('keen', 'ADJ')): 1,\n",
              "         (('keen', 'ADJ'), ('nature', 'NOUN')): 1,\n",
              "         (('nature', 'NOUN'), ('he', 'PRON')): 4,\n",
              "         (('was', 'VERB'), ('still', 'ADV')): 114,\n",
              "         (('still', 'ADV'), ('as', 'ADP')): 6,\n",
              "         (('as', 'ADP'), ('ever', 'ADV')): 26,\n",
              "         (('ever', 'ADV'), ('deeply', 'ADV')): 1,\n",
              "         (('deeply', 'ADV'), ('attracted', 'VERB')): 1,\n",
              "         (('attracted', 'VERB'), ('by', 'ADP')): 6,\n",
              "         (('by', 'ADP'), ('the', 'DET')): 1937,\n",
              "         (('the', 'DET'), ('study', 'NOUN')): 52,\n",
              "         (('study', 'NOUN'), ('of', 'ADP')): 13,\n",
              "         (('of', 'ADP'), ('crime', 'NOUN')): 5,\n",
              "         (('crime', 'NOUN'), ('and', 'CONJ')): 4,\n",
              "         (('and', 'CONJ'), ('occupied', 'VERB')): 1,\n",
              "         (('occupied', 'VERB'), ('his', 'PRON')): 5,\n",
              "         (('his', 'PRON'), ('immense', 'ADJ')): 2,\n",
              "         (('immense', 'ADJ'), ('faculties', 'NOUN')): 1,\n",
              "         (('faculties', 'NOUN'), ('and', 'CONJ')): 1,\n",
              "         (('and', 'CONJ'), ('extraordinary', 'ADJ')): 7,\n",
              "         (('extraordinary', 'ADJ'), ('powers', 'NOUN')): 2,\n",
              "         (('powers', 'NOUN'), ('of', 'ADP')): 40,\n",
              "         (('of', 'ADP'), ('observation', 'NOUN')): 8,\n",
              "         (('observation', 'NOUN'), ('in', 'ADP')): 3,\n",
              "         (('in', 'ADP'), ('following', 'VERB')): 3,\n",
              "         (('following', 'VERB'), ('out', 'PRT')): 1,\n",
              "         (('out', 'PRT'), ('those', 'DET')): 2,\n",
              "         (('those', 'DET'), ('clues', 'NOUN')): 1,\n",
              "         (('clues', 'NOUN'), ('and', 'CONJ')): 1,\n",
              "         (('and', 'CONJ'), ('clearing', 'VERB')): 1,\n",
              "         (('clearing', 'VERB'), ('up', 'PRT')): 3,\n",
              "         (('up', 'PRT'), ('those', 'DET')): 2,\n",
              "         (('those', 'DET'), ('mysteries', 'NOUN')): 1,\n",
              "         (('mysteries', 'NOUN'), ('which', 'DET')): 1,\n",
              "         (('which', 'DET'), ('had', 'VERB')): 173,\n",
              "         (('had', 'VERB'), ('been', 'VERB')): 1107,\n",
              "         (('been', 'VERB'), ('abandoned', 'VERB')): 8,\n",
              "         (('abandoned', 'VERB'), ('as', 'ADP')): 1,\n",
              "         (('as', 'ADP'), ('hopeless', 'NOUN')): 2,\n",
              "         (('hopeless', 'NOUN'), ('by', 'ADP')): 1,\n",
              "         (('the', 'DET'), ('official', 'ADJ')): 24,\n",
              "         (('official', 'ADJ'), ('police', 'NOUN')): 5,\n",
              "         (('police', 'NOUN'), ('from', 'ADP')): 1,\n",
              "         (('from', 'ADP'), ('time', 'NOUN')): 28,\n",
              "         (('time', 'NOUN'), ('to', 'PRT')): 172,\n",
              "         (('to', 'PRT'), ('time', 'NOUN')): 28,\n",
              "         (('time', 'NOUN'), ('i', 'VERB')): 3,\n",
              "         (('i', 'VERB'), ('heard', 'ADV')): 3,\n",
              "         (('heard', 'ADV'), ('some', 'DET')): 1,\n",
              "         (('some', 'DET'), ('vague', 'ADJ')): 1,\n",
              "         (('vague', 'ADJ'), ('account', 'NOUN')): 1,\n",
              "         (('account', 'NOUN'), ('of', 'ADP')): 100,\n",
              "         (('his', 'PRON'), ('doings', 'NOUN')): 1,\n",
              "         (('doings', 'NOUN'), ('of', 'ADP')): 6,\n",
              "         (('his', 'PRON'), ('summons', 'NOUN')): 1,\n",
              "         (('summons', 'NOUN'), ('to', 'PRT')): 5,\n",
              "         (('to', 'PRT'), ('odessa', 'VERB')): 1,\n",
              "         (('odessa', 'VERB'), ('in', 'ADP')): 1,\n",
              "         (('in', 'ADP'), ('the', 'DET')): 6446,\n",
              "         (('the', 'DET'), ('case', 'NOUN')): 181,\n",
              "         (('the', 'DET'), ('trepoff', 'NOUN')): 1,\n",
              "         (('trepoff', 'NOUN'), ('murder', 'NOUN')): 1,\n",
              "         (('murder', 'NOUN'), ('of', 'ADP')): 5,\n",
              "         (('his', 'PRON'), ('clearing', 'VERB')): 1,\n",
              "         (('clearing', 'VERB'), ('up', 'ADV')): 2,\n",
              "         (('up', 'ADV'), ('of', 'ADP')): 5,\n",
              "         (('the', 'DET'), ('singular', 'ADJ')): 6,\n",
              "         (('singular', 'ADJ'), ('tragedy', 'NOUN')): 1,\n",
              "         (('tragedy', 'NOUN'), ('of', 'ADP')): 1,\n",
              "         (('the', 'DET'), ('atkinson', 'NOUN')): 1,\n",
              "         (('atkinson', 'NOUN'), ('brothers', 'NOUN')): 1,\n",
              "         (('brothers', 'NOUN'), ('at', 'ADP')): 2,\n",
              "         (('at', 'ADP'), ('trincomalee', 'NOUN')): 1,\n",
              "         (('trincomalee', 'NOUN'), ('and', 'CONJ')): 1,\n",
              "         (('and', 'CONJ'), ('finally', 'ADV')): 52,\n",
              "         (('finally', 'ADV'), ('of', 'ADP')): 4,\n",
              "         (('the', 'DET'), ('mission', 'NOUN')): 5,\n",
              "         (('mission', 'NOUN'), ('which', 'DET')): 1,\n",
              "         (('which', 'DET'), ('he', 'PRON')): 418,\n",
              "         (('he', 'PRON'), ('had', 'VERB')): 1425,\n",
              "         (('had', 'VERB'), ('accomplished', 'VERB')): 2,\n",
              "         (('accomplished', 'VERB'), ('so', 'ADV')): 1,\n",
              "         (('so', 'ADV'), ('delicately', 'ADV')): 1,\n",
              "         (('delicately', 'ADV'), ('and', 'CONJ')): 1,\n",
              "         (('and', 'CONJ'), ('successfully', 'ADV')): 4,\n",
              "         (('successfully', 'ADV'), ('for', 'ADP')): 1,\n",
              "         (('the', 'DET'), ('reigning', 'VERB')): 3,\n",
              "         (('reigning', 'VERB'), ('family', 'NOUN')): 2,\n",
              "         (('family', 'NOUN'), ('of', 'ADP')): 9,\n",
              "         (('of', 'ADP'), ('holland', 'NOUN')): 4,\n",
              "         (('holland', 'NOUN'), ('beyond', 'ADP')): 1,\n",
              "         (('beyond', 'ADP'), ('these', 'DET')): 1,\n",
              "         (('these', 'DET'), ('signs', 'NOUN')): 4,\n",
              "         (('signs', 'NOUN'), ('of', 'ADP')): 61,\n",
              "         (('his', 'PRON'), ('activity', 'NOUN')): 10,\n",
              "         (('activity', 'NOUN'), ('however', 'ADV')): 1,\n",
              "         (('however', 'ADV'), ('which', 'DET')): 4,\n",
              "         (('which', 'DET'), ('i', 'VERB')): 45,\n",
              "         (('i', 'VERB'), ('merely', 'ADV')): 1,\n",
              "         (('merely', 'ADV'), ('shared', 'VERB')): 1,\n",
              "         (('shared', 'VERB'), ('with', 'ADP')): 6,\n",
              "         (('with', 'ADP'), ('all', 'DET')): 82,\n",
              "         (('all', 'DET'), ('the', 'DET')): 752,\n",
              "         (('the', 'DET'), ('readers', 'NOUN')): 1,\n",
              "         (('readers', 'NOUN'), ('of', 'ADP')): 1,\n",
              "         (('the', 'DET'), ('daily', 'ADJ')): 6,\n",
              "         (('daily', 'ADJ'), ('press', 'NOUN')): 1,\n",
              "         (('press', 'NOUN'), ('i', 'NOUN')): 1,\n",
              "         (('i', 'NOUN'), ('knew', 'VERB')): 18,\n",
              "         (('knew', 'VERB'), ('little', 'ADJ')): 2,\n",
              "         (('of', 'ADP'), ('my', 'PRON')): 163,\n",
              "         (('my', 'PRON'), ('former', 'ADJ')): 1,\n",
              "         (('former', 'ADJ'), ('friend', 'NOUN')): 1,\n",
              "         (('friend', 'NOUN'), ('and', 'CONJ')): 27,\n",
              "         (('and', 'CONJ'), ('companion', 'NOUN')): 1,\n",
              "         (('companion', 'NOUN'), ('one', 'NUM')): 1,\n",
              "         (('one', 'NUM'), ('night', 'NOUN')): 10,\n",
              "         (('night', 'NOUN'), ('it', 'PRON')): 8,\n",
              "         (('was', 'VERB'), ('on', 'ADP')): 50,\n",
              "         (('on', 'ADP'), ('the', 'DET')): 2526,\n",
              "         (('the', 'DET'), ('twentieth', 'NOUN')): 6,\n",
              "         (('twentieth', 'NOUN'), ('of', 'ADP')): 2,\n",
              "         (('of', 'ADP'), ('march', 'NOUN')): 12,\n",
              "         (('march', 'NOUN'), ('1888', 'NUM')): 1,\n",
              "         (('1888', 'NUM'), ('i', 'NOUN')): 1,\n",
              "         (('i', 'NOUN'), ('was', 'VERB')): 288,\n",
              "         (('was', 'VERB'), ('returning', 'VERB')): 5,\n",
              "         (('returning', 'VERB'), ('from', 'ADP')): 15,\n",
              "         (('from', 'ADP'), ('a', 'DET')): 234,\n",
              "         (('a', 'DET'), ('journey', 'NOUN')): 5,\n",
              "         (('journey', 'NOUN'), ('to', 'PRT')): 9,\n",
              "         (('to', 'PRT'), ('a', 'DET')): 533,\n",
              "         (('a', 'DET'), ('patient', 'NOUN')): 18,\n",
              "         (('patient', 'NOUN'), ('for', 'ADP')): 4,\n",
              "         (('for', 'ADP'), ('i', 'NOUN')): 41,\n",
              "         (('had', 'VERB'), ('now', 'ADV')): 28,\n",
              "         (('now', 'ADV'), ('returned', 'VERB')): 1,\n",
              "         (('returned', 'VERB'), ('to', 'PRT')): 70,\n",
              "         (('to', 'PRT'), ('civil', 'ADJ')): 3,\n",
              "         (('civil', 'ADJ'), ('practice', 'NOUN')): 6,\n",
              "         (('practice', 'NOUN'), ('when', 'ADV')): 1,\n",
              "         (('when', 'ADV'), ('my', 'PRON')): 13,\n",
              "         (('my', 'PRON'), ('way', 'NOUN')): 14,\n",
              "         (('way', 'NOUN'), ('led', 'VERB')): 2,\n",
              "         (('led', 'VERB'), ('me', 'PRON')): 3,\n",
              "         (('me', 'PRON'), ('through', 'ADP')): 2,\n",
              "         (('through', 'ADP'), ('baker', 'NOUN')): 1,\n",
              "         (('street', 'NOUN'), ('as', 'ADP')): 1,\n",
              "         (('as', 'ADP'), ('i', 'NOUN')): 160,\n",
              "         (('i', 'NOUN'), ('passed', 'VERB')): 8,\n",
              "         (('passed', 'VERB'), ('the', 'DET')): 33,\n",
              "         (('the', 'DET'), ('well', 'ADV')): 8,\n",
              "         (('well', 'ADV'), ('remembered', 'VERB')): 4,\n",
              "         (('remembered', 'VERB'), ('door', 'NOUN')): 1,\n",
              "         (('door', 'NOUN'), ('which', 'DET')): 13,\n",
              "         (('which', 'DET'), ('must', 'VERB')): 11,\n",
              "         (('must', 'VERB'), ('always', 'ADV')): 6,\n",
              "         (('always', 'ADV'), ('be', 'VERB')): 23,\n",
              "         (('be', 'VERB'), ('associated', 'VERB')): 16,\n",
              "         (('associated', 'VERB'), ('in', 'ADP')): 8,\n",
              "         (('in', 'ADP'), ('my', 'PRON')): 149,\n",
              "         (('my', 'PRON'), ('mind', 'NOUN')): 28,\n",
              "         (('mind', 'NOUN'), ('with', 'ADP')): 5,\n",
              "         (('with', 'ADP'), ('my', 'PRON')): 53,\n",
              "         (('my', 'PRON'), ('wooing', 'NOUN')): 1,\n",
              "         (('wooing', 'NOUN'), ('and', 'CONJ')): 1,\n",
              "         (('and', 'CONJ'), ('with', 'ADP')): 302,\n",
              "         (('the', 'DET'), ('dark', 'ADJ')): 24,\n",
              "         (('dark', 'ADJ'), ('incidents', 'NOUN')): 1,\n",
              "         (('incidents', 'NOUN'), ('of', 'ADP')): 4,\n",
              "         (('study', 'NOUN'), ('in', 'ADP')): 5,\n",
              "         (('in', 'ADP'), ('scarlet', 'NOUN')): 5,\n",
              "         (('scarlet', 'NOUN'), ('i', 'NOUN')): 2,\n",
              "         (('was', 'VERB'), ('seized', 'VERB')): 14,\n",
              "         (('seized', 'VERB'), ('with', 'ADP')): 8,\n",
              "         (('a', 'DET'), ('keen', 'ADJ')): 6,\n",
              "         (('keen', 'ADJ'), ('desire', 'NOUN')): 1,\n",
              "         (('desire', 'NOUN'), ('to', 'PRT')): 36,\n",
              "         (('to', 'PRT'), ('see', 'VERB')): 349,\n",
              "         (('see', 'VERB'), ('holmes', 'ADV')): 2,\n",
              "         (('holmes', 'ADV'), ('again', 'ADV')): 1,\n",
              "         (('again', 'ADV'), ('and', 'CONJ')): 71,\n",
              "         (('and', 'CONJ'), ('to', 'PRT')): 461,\n",
              "         (('to', 'PRT'), ('know', 'VERB')): 118,\n",
              "         (('know', 'VERB'), ('how', 'ADV')): 67,\n",
              "         (('how', 'ADV'), ('he', 'PRON')): 79,\n",
              "         (('was', 'VERB'), ('employing', 'VERB')): 1,\n",
              "         (('employing', 'VERB'), ('his', 'PRON')): 1,\n",
              "         (('his', 'PRON'), ('extraordinary', 'ADJ')): 3,\n",
              "         (('powers', 'NOUN'), ('his', 'PRON')): 1,\n",
              "         (('his', 'PRON'), ('rooms', 'NOUN')): 6,\n",
              "         (('rooms', 'NOUN'), ('were', 'VERB')): 6,\n",
              "         (('were', 'VERB'), ('brilliantly', 'ADV')): 1,\n",
              "         (('brilliantly', 'ADV'), ('lit', 'VERB')): 1,\n",
              "         (('lit', 'VERB'), ('and', 'CONJ')): 1,\n",
              "         (('and', 'CONJ'), ('even', 'ADV')): 117,\n",
              "         (('even', 'ADV'), ('as', 'ADP')): 9,\n",
              "         (('i', 'NOUN'), ('looked', 'VERB')): 12,\n",
              "         (('looked', 'VERB'), ('up', 'PRT')): 14,\n",
              "         (('up', 'PRT'), ('i', 'NOUN')): 9,\n",
              "         (('i', 'NOUN'), ('saw', 'VERB')): 59,\n",
              "         (('saw', 'VERB'), ('his', 'PRON')): 15,\n",
              "         (('his', 'PRON'), ('tall', 'ADJ')): 2,\n",
              "         (('tall', 'ADJ'), ('spare', 'ADJ')): 1,\n",
              "         (('spare', 'ADJ'), ('figure', 'NOUN')): 1,\n",
              "         (('figure', 'NOUN'), ('pass', 'NOUN')): 1,\n",
              "         (('pass', 'NOUN'), ('twice', 'NOUN')): 1,\n",
              "         (('twice', 'NOUN'), ('in', 'ADP')): 1,\n",
              "         (('a', 'DET'), ('dark', 'ADJ')): 25,\n",
              "         (('dark', 'ADJ'), ('silhouette', 'NOUN')): 1,\n",
              "         (('silhouette', 'NOUN'), ('against', 'ADP')): 1,\n",
              "         (('against', 'ADP'), ('the', 'DET')): 264,\n",
              "         (('the', 'DET'), ('blind', 'NOUN')): 2,\n",
              "         (('blind', 'NOUN'), ('he', 'PRON')): 1,\n",
              "         (('was', 'VERB'), ('pacing', 'VERB')): 9,\n",
              "         (('pacing', 'VERB'), ('the', 'DET')): 9,\n",
              "         (('the', 'DET'), ('room', 'NOUN')): 376,\n",
              "         (('room', 'NOUN'), ('swiftly', 'ADV')): 1,\n",
              "         (('swiftly', 'ADV'), ('eagerly', 'ADV')): 1,\n",
              "         (('eagerly', 'ADV'), ('with', 'ADP')): 1,\n",
              "         (('his', 'PRON'), ('head', 'NOUN')): 317,\n",
              "         (('head', 'NOUN'), ('sunk', 'NOUN')): 5,\n",
              "         (('sunk', 'NOUN'), ('upon', 'ADP')): 4,\n",
              "         (('upon', 'ADP'), ('his', 'PRON')): 54,\n",
              "         (('his', 'PRON'), ('chest', 'NOUN')): 18,\n",
              "         (('chest', 'NOUN'), ('and', 'CONJ')): 12,\n",
              "         (('and', 'CONJ'), ('his', 'PRON')): 444,\n",
              "         (('his', 'PRON'), ('hands', 'NOUN')): 93,\n",
              "         (('hands', 'NOUN'), ('clasped', 'VERB')): 1,\n",
              "         (('clasped', 'VERB'), ('behind', 'ADP')): 1,\n",
              "         (('behind', 'ADP'), ('him', 'PRON')): 50,\n",
              "         (('him', 'PRON'), ('to', 'PRT')): 352,\n",
              "         (('to', 'PRT'), ('me', 'PRON')): 326,\n",
              "         (('me', 'PRON'), ('who', 'PRON')): 4,\n",
              "         (('who', 'PRON'), ('knew', 'VERB')): 27,\n",
              "         (('knew', 'VERB'), ('his', 'PRON')): 9,\n",
              "         (('his', 'PRON'), ('every', 'DET')): 8,\n",
              "         (('every', 'DET'), ('mood', 'NOUN')): 1,\n",
              "         (('mood', 'NOUN'), ('and', 'CONJ')): 2,\n",
              "         (('and', 'CONJ'), ('habit', 'VERB')): 1,\n",
              "         (('habit', 'VERB'), ('his', 'PRON')): 1,\n",
              "         (('his', 'PRON'), ('attitude', 'NOUN')): 3,\n",
              "         (('attitude', 'NOUN'), ('and', 'CONJ')): 4,\n",
              "         (('and', 'CONJ'), ('manner', 'NOUN')): 9,\n",
              "         (('manner', 'NOUN'), ('told', 'VERB')): 1,\n",
              "         (('told', 'VERB'), ('their', 'PRON')): 2,\n",
              "         (('their', 'PRON'), ('own', 'ADJ')): 158,\n",
              "         (('own', 'ADJ'), ('story', 'NOUN')): 2,\n",
              "         (('story', 'NOUN'), ('he', 'PRON')): 6,\n",
              "         (('was', 'VERB'), ('at', 'ADP')): 94,\n",
              "         (('at', 'ADP'), ('work', 'NOUN')): 20,\n",
              "         (('work', 'NOUN'), ('again', 'ADV')): 1,\n",
              "         (('again', 'ADV'), ('he', 'PRON')): 34,\n",
              "         (('had', 'VERB'), ('risen', 'VERB')): 18,\n",
              "         (('risen', 'VERB'), ('out', 'ADP')): 1,\n",
              "         (('out', 'ADP'), ('of', 'ADP')): 514,\n",
              "         (('his', 'PRON'), ('drug', 'NOUN')): 1,\n",
              "         (('drug', 'NOUN'), ('created', 'VERB')): 1,\n",
              "         (('created', 'VERB'), ('dreams', 'NOUN')): 1,\n",
              "         (('dreams', 'NOUN'), ('and', 'CONJ')): 6,\n",
              "         (('and', 'CONJ'), ('was', 'VERB')): 293,\n",
              "         (('was', 'VERB'), ('hot', 'ADJ')): 8,\n",
              "         (('hot', 'ADJ'), ('upon', 'ADP')): 4,\n",
              "         (('upon', 'ADP'), ('the', 'DET')): 411,\n",
              "         (('the', 'DET'), ('scent', 'NOUN')): 4,\n",
              "         (('scent', 'NOUN'), ('of', 'ADP')): 7,\n",
              "         (('of', 'ADP'), ('some', 'DET')): 83,\n",
              "         (('some', 'DET'), ('new', 'ADJ')): 7,\n",
              "         (('new', 'ADJ'), ('problem', 'NOUN')): 2,\n",
              "         (('problem', 'NOUN'), ('i', 'NOUN')): 1,\n",
              "         (('i', 'NOUN'), ('rang', 'VERB')): 1,\n",
              "         (('rang', 'VERB'), ('the', 'DET')): 6,\n",
              "         (('the', 'DET'), ('bell', 'NOUN')): 19,\n",
              "         (('bell', 'NOUN'), ('and', 'CONJ')): 6,\n",
              "         (('was', 'VERB'), ('shown', 'VERB')): 18,\n",
              "         (('shown', 'VERB'), ('up', 'PRT')): 4,\n",
              "         (('up', 'PRT'), ('to', 'PRT')): 113,\n",
              "         (('the', 'DET'), ('chamber', 'NOUN')): 7,\n",
              "         (('chamber', 'NOUN'), ('which', 'DET')): 1,\n",
              "         (('had', 'VERB'), ('formerly', 'ADV')): 25,\n",
              "         (('formerly', 'ADV'), ('been', 'VERB')): 7,\n",
              "         (('been', 'VERB'), ('in', 'ADP')): 79,\n",
              "         (('in', 'ADP'), ('part', 'NOUN')): 9,\n",
              "         (('part', 'NOUN'), ('my', 'PRON')): 1,\n",
              "         (('own', 'ADJ'), ('his', 'PRON')): 1,\n",
              "         (('his', 'PRON'), ('manner', 'NOUN')): 9,\n",
              "         (('manner', 'NOUN'), ('was', 'VERB')): 5,\n",
              "         (('not', 'ADV'), ('effusive', 'ADJ')): 1,\n",
              "         (('effusive', 'ADJ'), ('it', 'PRON')): 1,\n",
              "         (('it', 'PRON'), ('seldom', 'ADV')): 4,\n",
              "         (('seldom', 'ADV'), ('was', 'VERB')): 1,\n",
              "         (('but', 'CONJ'), ('he', 'PRON')): 229,\n",
              "         (('was', 'VERB'), ('glad', 'ADJ')): 17,\n",
              "         (('glad', 'ADJ'), ('i', 'ADJ')): 2,\n",
              "         (('i', 'ADJ'), ('think', 'VERB')): 71,\n",
              "         (('think', 'VERB'), ('to', 'PRT')): 2,\n",
              "         (('see', 'VERB'), ('me', 'PRON')): 11,\n",
              "         (('me', 'PRON'), ('with', 'ADP')): 30,\n",
              "         (('with', 'ADP'), ('hardly', 'ADV')): 2,\n",
              "         (('hardly', 'ADV'), ('a', 'DET')): 5,\n",
              "         (('a', 'DET'), ('word', 'NOUN')): 91,\n",
              "         (('word', 'NOUN'), ('spoken', 'VERB')): 1,\n",
              "         (('spoken', 'VERB'), ('but', 'CONJ')): 2,\n",
              "         (('but', 'CONJ'), ('with', 'ADP')): 59,\n",
              "         (('a', 'DET'), ('kindly', 'ADV')): 8,\n",
              "         (('kindly', 'ADV'), ('eye', 'NOUN')): 1,\n",
              "         (('eye', 'NOUN'), ('he', 'PRON')): 5,\n",
              "         (('he', 'PRON'), ('waved', 'VERB')): 11,\n",
              "         (('waved', 'VERB'), ('me', 'PRON')): 1,\n",
              "         (('me', 'PRON'), ('to', 'PRT')): 170,\n",
              "         (('to', 'PRT'), ('an', 'DET')): 112,\n",
              "         (('an', 'DET'), ('armchair', 'NOUN')): 25,\n",
              "         (('armchair', 'NOUN'), ('threw', 'VERB')): 1,\n",
              "         (('threw', 'VERB'), ('across', 'ADP')): 1,\n",
              "         (('across', 'ADP'), ('his', 'PRON')): 12,\n",
              "         (('his', 'PRON'), ('case', 'NOUN')): 7,\n",
              "         (('of', 'ADP'), ('cigars', 'NOUN')): 1,\n",
              "         (('cigars', 'NOUN'), ('and', 'CONJ')): 1,\n",
              "         (('and', 'CONJ'), ('indicated', 'VERB')): 2,\n",
              "         (('indicated', 'VERB'), ('a', 'DET')): 5,\n",
              "         (('a', 'DET'), ('spirit', 'NOUN')): 10,\n",
              "         (('spirit', 'NOUN'), ('case', 'NOUN')): 1,\n",
              "         (('case', 'NOUN'), ('and', 'CONJ')): 12,\n",
              "         (('a', 'DET'), ('gasogene', 'NOUN')): 1,\n",
              "         (('gasogene', 'NOUN'), ('in', 'ADP')): 1,\n",
              "         (('the', 'DET'), ('corner', 'NOUN')): 56,\n",
              "         (('corner', 'NOUN'), ('then', 'ADV')): 1,\n",
              "         (('then', 'ADV'), ('he', 'PRON')): 115,\n",
              "         (('he', 'PRON'), ('stood', 'VERB')): 37,\n",
              "         (('stood', 'VERB'), ('before', 'ADP')): 12,\n",
              "         (('before', 'ADP'), ('the', 'DET')): 277,\n",
              "         (('the', 'DET'), ('fire', 'NOUN')): 105,\n",
              "         (('fire', 'NOUN'), ('and', 'CONJ')): 45,\n",
              "         (('and', 'CONJ'), ('looked', 'VERB')): 98,\n",
              "         (('looked', 'VERB'), ('me', 'PRON')): 1,\n",
              "         (('me', 'PRON'), ('over', 'PRT')): 1,\n",
              "         (('over', 'PRT'), ('in', 'ADP')): 4,\n",
              "         (('his', 'PRON'), ('singular', 'ADJ')): 4,\n",
              "         (('singular', 'ADJ'), ('introspective', 'ADJ')): 1,\n",
              "         (('introspective', 'ADJ'), ('fashion', 'NOUN')): 2,\n",
              "         (('fashion', 'NOUN'), ('wedlock', 'NOUN')): 1,\n",
              "         (('wedlock', 'NOUN'), ('suits', 'NOUN')): 1,\n",
              "         (('suits', 'NOUN'), ('you', 'PRON')): 4,\n",
              "         (('you', 'PRON'), ('he', 'PRON')): 58,\n",
              "         (('he', 'PRON'), ('remarked', 'VERB')): 34,\n",
              "         (('remarked', 'VERB'), ('i', 'ADJ')): 2,\n",
              "         (('think', 'VERB'), ('watson', 'VERB')): 1,\n",
              "         (('watson', 'VERB'), ('that', 'ADP')): 1,\n",
              "         (('that', 'ADP'), ('you', 'PRON')): 194,\n",
              "         (('you', 'PRON'), ('have', 'VERB')): 303,\n",
              "         (('have', 'VERB'), ('put', 'VERB')): 5,\n",
              "         (('put', 'VERB'), ('on', 'ADP')): 53,\n",
              "         (('on', 'ADP'), ('seven', 'NUM')): 1,\n",
              "         (('seven', 'NUM'), ('and', 'CONJ')): 5,\n",
              "         (('a', 'DET'), ('half', 'NOUN')): 22,\n",
              "         (('half', 'NOUN'), ('pounds', 'VERB')): 1,\n",
              "         (('pounds', 'VERB'), ('since', 'ADP')): 1,\n",
              "         (('since', 'ADP'), ('i', 'NOUN')): 8,\n",
              "         (('saw', 'VERB'), ('you', 'PRON')): 9,\n",
              "         (('you', 'PRON'), ('seven', 'NUM')): 1,\n",
              "         (('seven', 'NUM'), ('i', 'NOUN')): 2,\n",
              "         (('i', 'NOUN'), ('answered', 'VERB')): 9,\n",
              "         (('answered', 'VERB'), ('indeed', 'ADV')): 1,\n",
              "         (('indeed', 'ADV'), ('i', 'ADJ')): 4,\n",
              "         (('i', 'ADJ'), ('should', 'VERB')): 3,\n",
              "         (('should', 'VERB'), ('have', 'VERB')): 82,\n",
              "         (('have', 'VERB'), ('thought', 'VERB')): 18,\n",
              "         (('thought', 'VERB'), ('a', 'DET')): 5,\n",
              "         (('a', 'DET'), ('little', 'ADV')): 13,\n",
              "         (('little', 'ADV'), ('more', 'ADV')): 5,\n",
              "         (('more', 'ADV'), ('just', 'ADV')): 2,\n",
              "         (('just', 'ADV'), ('a', 'DET')): 20,\n",
              "         (('a', 'DET'), ('trifle', 'ADV')): 1,\n",
              "         (('trifle', 'ADV'), ('more', 'ADV')): 1,\n",
              "         (('more', 'ADV'), ('i', 'ADJ')): 2,\n",
              "         (('i', 'ADJ'), ('fancy', 'ADJ')): 2,\n",
              "         (('fancy', 'ADJ'), ('watson', 'NOUN')): 1,\n",
              "         (('watson', 'NOUN'), ('and', 'CONJ')): 3,\n",
              "         (('and', 'CONJ'), ('in', 'ADP')): 655,\n",
              "         (('in', 'ADP'), ('practice', 'NOUN')): 14,\n",
              "         (('practice', 'NOUN'), ('again', 'ADV')): 1,\n",
              "         (('again', 'ADV'), ('i', 'ADJ')): 12,\n",
              "         (('i', 'ADJ'), ('observe', 'VERB')): 4,\n",
              "         (('observe', 'VERB'), ('you', 'PRON')): 1,\n",
              "         (('you', 'PRON'), ('did', 'VERB')): 26,\n",
              "         (('did', 'VERB'), ('not', 'ADV')): 1196,\n",
              "         (('not', 'ADV'), ('tell', 'VERB')): 20,\n",
              "         (('tell', 'VERB'), ('me', 'PRON')): 99,\n",
              "         (('me', 'PRON'), ('that', 'ADP')): 76,\n",
              "         (('you', 'PRON'), ('intended', 'VERB')): 1,\n",
              "         (('intended', 'VERB'), ('to', 'PRT')): 33,\n",
              "         (('to', 'PRT'), ('go', 'VERB')): 243,\n",
              "         (('go', 'VERB'), ('into', 'ADP')): 24,\n",
              "         (('into', 'ADP'), ('harness', 'NOUN')): 1,\n",
              "         (('harness', 'NOUN'), ('then', 'ADV')): 1,\n",
              "         (('then', 'ADV'), ('how', 'ADV')): 7,\n",
              "         (('how', 'ADV'), ('do', 'VERB')): 27,\n",
              "         (('do', 'VERB'), ('you', 'PRON')): 323,\n",
              "         (('you', 'PRON'), ('know', 'VERB')): 269,\n",
              "         (('know', 'VERB'), ('i', 'ADJ')): 19,\n",
              "         (('i', 'ADJ'), ('see', 'VERB')): 21,\n",
              "         (('see', 'VERB'), ('it', 'PRON')): 44,\n",
              "         (('it', 'PRON'), ('i', 'VERB')): 59,\n",
              "         (('i', 'VERB'), ('deduce', 'VERB')): 1,\n",
              "         (('deduce', 'VERB'), ('it', 'PRON')): 2,\n",
              "         (('it', 'PRON'), ('how', 'ADV')): 6,\n",
              "         (('do', 'VERB'), ('i', 'ADV')): 8,\n",
              "         (('i', 'ADV'), ('know', 'VERB')): 11,\n",
              "         (('know', 'VERB'), ('that', 'ADP')): 91,\n",
              "         (('have', 'VERB'), ('been', 'VERB')): 494,\n",
              "         (('been', 'VERB'), ('getting', 'VERB')): 2,\n",
              "         (('getting', 'VERB'), ('yourself', 'PRON')): 1,\n",
              "         (('yourself', 'PRON'), ('very', 'ADV')): 1,\n",
              "         (('very', 'ADV'), ('wet', 'VERB')): 1,\n",
              "         (('wet', 'VERB'), ('lately', 'ADV')): 1,\n",
              "         (('lately', 'ADV'), ('and', 'CONJ')): 1,\n",
              "         (('have', 'VERB'), ('a', 'DET')): 176,\n",
              "         (('a', 'DET'), ('most', 'ADV')): 46,\n",
              "         (('most', 'ADV'), ('clumsy', 'ADJ')): 1,\n",
              "         (('clumsy', 'ADJ'), ('and', 'CONJ')): 2,\n",
              "         (('and', 'CONJ'), ('careless', 'ADJ')): 1,\n",
              "         (('careless', 'ADJ'), ('servant', 'NOUN')): 1,\n",
              "         (('servant', 'NOUN'), ('girl', 'NOUN')): 1,\n",
              "         (('girl', 'NOUN'), ('my', 'PRON')): 3,\n",
              "         (('my', 'PRON'), ('dear', 'ADJ')): 201,\n",
              "         (('dear', 'ADJ'), ('holmes', 'NOUN')): 3,\n",
              "         (('holmes', 'NOUN'), ('said', 'VERB')): 8,\n",
              "         (('said', 'VERB'), ('i', 'NOUN')): 47,\n",
              "         (('i', 'NOUN'), ('this', 'DET')): 1,\n",
              "         (('this', 'DET'), ('is', 'VERB')): 309,\n",
              "         (('is', 'VERB'), ('too', 'ADV')): 24,\n",
              "         (('too', 'ADV'), ('much', 'ADJ')): 35,\n",
              "         (('much', 'ADJ'), ('you', 'PRON')): 2,\n",
              "         (('you', 'PRON'), ('would', 'VERB')): 58,\n",
              "         (('would', 'VERB'), ('certainly', 'ADV')): 13,\n",
              "         (('certainly', 'ADV'), ('have', 'VERB')): 5,\n",
              "         (('been', 'VERB'), ('burned', 'VERB')): 12,\n",
              "         (('burned', 'VERB'), ('had', 'VERB')): 1,\n",
              "         (('had', 'VERB'), ('you', 'PRON')): 4,\n",
              "         (('you', 'PRON'), ('lived', 'VERB')): 2,\n",
              "         (('lived', 'VERB'), ('a', 'DET')): 3,\n",
              "         (('a', 'DET'), ('few', 'ADJ')): 372,\n",
              "         (('few', 'ADJ'), ('centuries', 'NOUN')): 1,\n",
              "         (('centuries', 'NOUN'), ('ago', 'ADP')): 2,\n",
              "         (('ago', 'ADP'), ('it', 'PRON')): 2,\n",
              "         (('it', 'PRON'), ('is', 'VERB')): 1673,\n",
              "         (('is', 'VERB'), ('true', 'ADJ')): 38,\n",
              "         (('true', 'ADJ'), ('that', 'ADP')): 32,\n",
              "         (('that', 'ADP'), ('i', 'NOUN')): 320,\n",
              "         (('had', 'VERB'), ('a', 'DET')): 201,\n",
              "         (('a', 'DET'), ('country', 'NOUN')): 13,\n",
              "         (('country', 'NOUN'), ('walk', 'NOUN')): 1,\n",
              "         (('walk', 'NOUN'), ('on', 'ADP')): 1,\n",
              "         (('on', 'ADP'), ('thursday', 'NOUN')): 2,\n",
              "         (('thursday', 'NOUN'), ('and', 'CONJ')): 1,\n",
              "         (('and', 'CONJ'), ('came', 'VERB')): 28,\n",
              "         (('came', 'VERB'), ('home', 'NOUN')): 4,\n",
              "         ...})"
            ]
          },
          "execution_count": 337,
          "metadata": {},
          "output_type": "execute_result"
        }
      ],
      "source": [
        "pos_tagged_dict #-----"
      ]
    },
    {
      "cell_type": "code",
      "execution_count": 315,
      "metadata": {
        "colab": {
          "base_uri": "https://localhost:8080/"
        },
        "id": "ZO0kP57N38Bx",
        "outputId": "8f2957e5-fbdc-4ec3-978a-74924c72c4cb"
      },
      "outputs": [
        {
          "name": "stdout",
          "output_type": "stream",
          "text": [
            "NOUN -> 'VERB' -> VERB\n",
            "NOUN -> 'DET' -> NOUN\n",
            "ADJ -> 'NOUN' -> VERB\n",
            "VERB -> 'ADJ' -> NOUN\n",
            "NOUN -> 'ADV' -> VERB\n",
            "NOUN -> 'ADP' -> NOUN\n",
            "NOUN -> 'CONJ' -> NOUN\n",
            "VERB -> 'PRON' -> NOUN\n",
            "NOUN -> 'NUM' -> NOUN\n",
            "NOUN -> 'PRT' -> VERB\n",
            "NOUN -> 'X' -> NOUN\n"
          ]
        }
      ],
      "source": [
        "for i in ['VERB', 'DET', 'NOUN', 'ADJ', 'ADV', 'ADP', 'CONJ', 'PRON', 'NUM', 'PRT','X'] :\n",
        "  left_bigram = nltk.FreqDist( a[1] for (a, b) in pos_tagged_dict if b[1]==i)\n",
        "  right_bigram = nltk.FreqDist( b[1] for (a, b) in pos_tagged_dict if a[1]==i)\n",
        "  print(left_bigram.max()+\" -> '\"+i+\"' -> \"+right_bigram.max())"
      ]
    },
    {
      "cell_type": "markdown",
      "metadata": {
        "id": "Uv-YaqvaBFGn"
      },
      "source": [
        "some basic examples to show were pos tagging comes in handy"
      ]
    },
    {
      "cell_type": "code",
      "execution_count": 263,
      "metadata": {
        "colab": {
          "base_uri": "https://localhost:8080/"
        },
        "id": "c1rYKxBipVu6",
        "outputId": "f24fd872-e58b-46c3-fbaa-f1c20baf5fec"
      },
      "outputs": [
        {
          "data": {
            "text/plain": [
              "[('They', 'PRON'), ('where', 'ADV'), ('going', 'VERB')]"
            ]
          },
          "execution_count": 263,
          "metadata": {},
          "output_type": "execute_result"
        }
      ],
      "source": [
        "s=nltk.pos_tag(['They', 'where', 'going'],tagset='universal')\n",
        "s\n",
        "#where----->were(best candidate)"
      ]
    },
    {
      "cell_type": "code",
      "execution_count": 309,
      "metadata": {
        "colab": {
          "base_uri": "https://localhost:8080/"
        },
        "id": "ZRC8XK6rM2DS",
        "outputId": "b7dd4ab2-ee74-4625-cf11-5a78825b3923"
      },
      "outputs": [
        {
          "data": {
            "text/plain": [
              "[('he', 'PRON'), ('were', 'VERB'), ('tall', 'ADJ')]"
            ]
          },
          "execution_count": 309,
          "metadata": {},
          "output_type": "execute_result"
        }
      ],
      "source": [
        "s=nltk.pos_tag(['he', 'were', 'tall'],tagset='universal')\n",
        "s\n",
        "#were----->was(best candidate)"
      ]
    },
    {
      "cell_type": "code",
      "execution_count": 342,
      "metadata": {
        "colab": {
          "base_uri": "https://localhost:8080/"
        },
        "id": "WePjjQI8qMfK",
        "outputId": "189f7047-a03a-4a59-8b9f-9125fe7f6bf7"
      },
      "outputs": [
        {
          "data": {
            "text/plain": [
              "[('the', 'DET'), ('man', 'NOUN'), ('he', 'PRON'), ('going', 'VERB')]"
            ]
          },
          "execution_count": 342,
          "metadata": {},
          "output_type": "execute_result"
        }
      ],
      "source": [
        "s=nltk.pos_tag(['the','man', 'he', 'going'],tagset='universal')\n",
        "s\n",
        "#he----->is(best candidate)"
      ]
    },
    {
      "cell_type": "code",
      "execution_count": null,
      "metadata": {
        "id": "8WXVJfbaurLM"
      },
      "outputs": [],
      "source": [
        "s=nltk.pos_tag(['the','cta'],tagset='universal')\n",
        "s"
      ]
    },
    {
      "cell_type": "markdown",
      "metadata": {
        "id": "BfvzizqzAGU7"
      },
      "source": [
        "A start Basc idea to use naive approach to take frequency of pos of tags in the probalistic model in a start case two (bigrams)"
      ]
    },
    {
      "cell_type": "code",
      "execution_count": 345,
      "metadata": {
        "id": "ltxPaDhyAC5f"
      },
      "outputs": [],
      "source": [
        "def symspell_bigrams_pos(sentence):\n",
        "  words=sentence.split()\n",
        "  s=nltk.pos_tag(words,tagset='universal')\n",
        "  for i in range(len(s)):\n",
        "    ##############\n",
        "    l=symspell_candidates(s[i][0],silent=True)\n",
        "    ##############\n",
        "    max=0\n",
        "    f=0\n",
        "    if type(l)==str:\n",
        "      continue\n",
        "    for j in range(len(l)):\n",
        "      freq=0\n",
        "      if i==0 or i==len(s)-1:\n",
        "        continue\n",
        "      else :#calculation of occurence of a candidated given the pos tags of words before and after\n",
        "        for a,b in pos_tagged_dict:\n",
        "          if (b[0]==l[j][0] and a[1]==s[i-1][1]) or(a[0]==l[j][0] and b[1]==s[i+1][1]) :\n",
        "            freq+=1\n",
        "        temp=freq\n",
        "      if temp>max:\n",
        "        max=temp\n",
        "        f=1\n",
        "        words[i]=l[j][0]\n",
        "        s[i]=nltk.pos_tag([l[j][0]],tagset='universal')[0]\n",
        "    if f==0:\n",
        "      ##########\n",
        "      words[i]=symspell_correction(words[i])\n",
        "      ##########\n",
        "  return s "
      ]
    },
    {
      "cell_type": "markdown",
      "metadata": {
        "id": "K86wxu8WYQgD"
      },
      "source": [
        "Started by simple idea considering the one incorrect word and its position in the middle"
      ]
    },
    {
      "cell_type": "code",
      "execution_count": 341,
      "metadata": {
        "colab": {
          "base_uri": "https://localhost:8080/"
        },
        "id": "oozkI5MFMXh0",
        "outputId": "7107135e-b430-457a-f656-970a0b2bd3cb"
      },
      "outputs": [
        {
          "data": {
            "text/plain": [
              "[('a', 'DET'), ('country', 'NOUN'), ('walk', 'NOUN')]"
            ]
          },
          "execution_count": 341,
          "metadata": {},
          "output_type": "execute_result"
        }
      ],
      "source": [
        "symspell_bigrams_pos('a contry walk')"
      ]
    },
    {
      "cell_type": "code",
      "execution_count": 343,
      "metadata": {
        "colab": {
          "base_uri": "https://localhost:8080/"
        },
        "id": "OcBvMAFWY6Fv",
        "outputId": "2f6170be-539c-4ecd-dcf1-8f89bc2a84b4"
      },
      "outputs": [
        {
          "data": {
            "text/plain": [
              "['a', 'country', 'walk']"
            ]
          },
          "execution_count": 343,
          "metadata": {},
          "output_type": "execute_result"
        }
      ],
      "source": [
        "symspell_bigrams('a contry walk')"
      ]
    },
    {
      "cell_type": "code",
      "execution_count": 319,
      "metadata": {
        "colab": {
          "base_uri": "https://localhost:8080/"
        },
        "id": "NiC-HAevC3SG",
        "outputId": "46250949-43ce-4056-89ba-a8652e43a292"
      },
      "outputs": [
        {
          "data": {
            "text/plain": [
              "['they', 'where', 'going']"
            ]
          },
          "execution_count": 319,
          "metadata": {},
          "output_type": "execute_result"
        }
      ],
      "source": [
        "symspell_bigrams('they where going')#with out pos tagging"
      ]
    },
    {
      "cell_type": "markdown",
      "metadata": {
        "id": "dF_Wg6B5ZjYM"
      },
      "source": [
        "As excpeted the correction depends on miss spelling not grammatic error so no change"
      ]
    },
    {
      "cell_type": "code",
      "execution_count": 346,
      "metadata": {
        "colab": {
          "base_uri": "https://localhost:8080/"
        },
        "id": "Kj0RWqxHY0EF",
        "outputId": "d6b5fcec-ef45-44c1-e37f-550412acdd46"
      },
      "outputs": [
        {
          "data": {
            "text/plain": [
              "[('they', 'PRON'), ('were', 'VERB'), ('going', 'VERB')]"
            ]
          },
          "execution_count": 346,
          "metadata": {},
          "output_type": "execute_result"
        }
      ],
      "source": [
        "symspell_bigrams_pos('they where going')#with pos tagging"
      ]
    },
    {
      "cell_type": "markdown",
      "metadata": {
        "id": "VO8LjXPPZL7b"
      },
      "source": [
        "A good start to show the role pos tags can have choosing the best candidate not just in spelling but in context with help of bigrams"
      ]
    },
    {
      "cell_type": "markdown",
      "metadata": {
        "id": "6nOh4NsDZwte"
      },
      "source": [
        "Still many obtcales to overcome: \n",
        "\n",
        "1. what if wrong verb assigned to wrong pronoun he were -> he was\n",
        "2. what if we has missing words other than misspelled for sense meaning?\n",
        "3. what if fisrt of last word are in worng context?\n",
        "4. what if sentence has no spelling mistakes but words are in     disorder in sentence?\n",
        "\n",
        "This is just a beginning and pos tags are for sure important is making more complex models (ML,DL)\n",
        "\n",
        "For Futher development......\n",
        "\n",
        "\n",
        " "
      ]
    }
  ],
  "metadata": {
    "colab": {
      "collapsed_sections": [],
      "name": "Varient_NorvigSpellCheck_SherifEssam.ipynb",
      "provenance": []
    },
    "kernelspec": {
      "display_name": "Python 3.9.7 64-bit",
      "language": "python",
      "name": "python3"
    },
    "language_info": {
      "codemirror_mode": {
        "name": "ipython",
        "version": 3
      },
      "file_extension": ".py",
      "mimetype": "text/x-python",
      "name": "python",
      "nbconvert_exporter": "python",
      "pygments_lexer": "ipython3",
      "version": "3.9.7"
    },
    "vscode": {
      "interpreter": {
        "hash": "3245ce477dff5cab7f388d292584ba488c55a0cd8d40c4a02b6e4feb24e4cbf0"
      }
    }
  },
  "nbformat": 4,
  "nbformat_minor": 0
}
